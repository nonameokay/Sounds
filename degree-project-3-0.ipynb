{
 "cells": [
  {
   "cell_type": "code",
   "execution_count": 1,
   "metadata": {
    "_uuid": "b3d191e52b7a1e5633ead23de51b2338a6fd1a7e"
   },
   "outputs": [],
   "source": [
    "import os\n",
    "import numpy as np\n",
    "import pandas as pd\n",
    "import matplotlib.pyplot as plt\n",
    "import librosa\n",
    "\n",
    "from pathlib import Path"
   ]
  },
  {
   "cell_type": "code",
   "execution_count": 2,
   "metadata": {
    "_uuid": "e099477cd74a5016f91fae49539dcb707ea90ff9"
   },
   "outputs": [],
   "source": [
    "dataset = Path('../input/three sounds/Three Sounds')"
   ]
  },
  {
   "cell_type": "code",
   "execution_count": 3,
   "metadata": {
    "_uuid": "d30c822c0559ff89cd839be084265bdc6ba82476"
   },
   "outputs": [],
   "source": [
    "labels = [folder.name for folder in dataset.glob('*')]\n",
    "frame_files, frame_labels = [], []\n",
    "for folder in dataset.glob('*'):\n",
    "    files = [path for path in folder.glob('*')]\n",
    "    frame_files.extend(files)\n",
    "    frame_labels.extend([folder.name] * len(files))\n",
    "\n",
    "frame = [frame_files, frame_labels]"
   ]
  },
  {
   "cell_type": "code",
   "execution_count": 4,
   "metadata": {},
   "outputs": [
    {
     "data": {
      "text/plain": [
       "['Conga', 'Snare', 'Kick']"
      ]
     },
     "execution_count": 4,
     "metadata": {},
     "output_type": "execute_result"
    }
   ],
   "source": [
    "labels"
   ]
  },
  {
   "cell_type": "code",
   "execution_count": 5,
   "metadata": {
    "_uuid": "d751a52a09a49c3e2e3790ce7340d79c06996bf4"
   },
   "outputs": [],
   "source": [
    "# TODO: Figure out a better way to create this Dataframe\n",
    "df = pd.DataFrame()\n",
    "df['Path'] = frame_files\n",
    "df['Label'] = frame_labels"
   ]
  },
  {
   "cell_type": "markdown",
   "metadata": {
    "_uuid": "ec112abf4e3d990ee44f38f4df007cedb4e6df3b"
   },
   "source": [
    "# Feature Extraction"
   ]
  },
  {
   "cell_type": "code",
   "execution_count": 6,
   "metadata": {
    "_uuid": "18419eead7f99e63de4b656f53d8e83e33167d60"
   },
   "outputs": [
    {
     "data": {
      "text/html": [
       "<div>\n",
       "<style scoped>\n",
       "    .dataframe tbody tr th:only-of-type {\n",
       "        vertical-align: middle;\n",
       "    }\n",
       "\n",
       "    .dataframe tbody tr th {\n",
       "        vertical-align: top;\n",
       "    }\n",
       "\n",
       "    .dataframe thead th {\n",
       "        text-align: right;\n",
       "    }\n",
       "</style>\n",
       "<table border=\"1\" class=\"dataframe\">\n",
       "  <thead>\n",
       "    <tr style=\"text-align: right;\">\n",
       "      <th></th>\n",
       "      <th>Path</th>\n",
       "      <th>Label</th>\n",
       "    </tr>\n",
       "  </thead>\n",
       "  <tbody>\n",
       "    <tr>\n",
       "      <th>0</th>\n",
       "      <td>../input/three sounds/Three Sounds/Conga/HR16B...</td>\n",
       "      <td>Conga</td>\n",
       "    </tr>\n",
       "    <tr>\n",
       "      <th>1</th>\n",
       "      <td>../input/three sounds/Three Sounds/Conga/MaxV ...</td>\n",
       "      <td>Conga</td>\n",
       "    </tr>\n",
       "    <tr>\n",
       "      <th>2</th>\n",
       "      <td>../input/three sounds/Three Sounds/Conga/DDM22...</td>\n",
       "      <td>Conga</td>\n",
       "    </tr>\n",
       "    <tr>\n",
       "      <th>3</th>\n",
       "      <td>../input/three sounds/Three Sounds/Conga/MaxV ...</td>\n",
       "      <td>Conga</td>\n",
       "    </tr>\n",
       "    <tr>\n",
       "      <th>4</th>\n",
       "      <td>../input/three sounds/Three Sounds/Conga/MaxV ...</td>\n",
       "      <td>Conga</td>\n",
       "    </tr>\n",
       "  </tbody>\n",
       "</table>\n",
       "</div>"
      ],
      "text/plain": [
       "                                                Path  Label\n",
       "0  ../input/three sounds/Three Sounds/Conga/HR16B...  Conga\n",
       "1  ../input/three sounds/Three Sounds/Conga/MaxV ...  Conga\n",
       "2  ../input/three sounds/Three Sounds/Conga/DDM22...  Conga\n",
       "3  ../input/three sounds/Three Sounds/Conga/MaxV ...  Conga\n",
       "4  ../input/three sounds/Three Sounds/Conga/MaxV ...  Conga"
      ]
     },
     "execution_count": 6,
     "metadata": {},
     "output_type": "execute_result"
    }
   ],
   "source": [
    "df.head()"
   ]
  },
  {
   "cell_type": "code",
   "execution_count": 7,
   "metadata": {
    "_kg_hide-input": false,
    "_uuid": "675244d0e639600b77429686219861f9f4c7a277"
   },
   "outputs": [
    {
     "name": "stdout",
     "output_type": "stream",
     "text": [
      "CPU times: user 0 ns, sys: 0 ns, total: 0 ns\n",
      "Wall time: 8.34 µs\n"
     ]
    }
   ],
   "source": [
    "%%time\n",
    "def feats_extraction(path):\n",
    "    raw_signal, sample_rate = librosa.load(path)\n",
    "    mfccs = librosa.feature.mfcc(raw_signal, sample_rate) # 20 features (default)\n",
    "    chroma = librosa.feature.chroma_stft(raw_signal, sample_rate) # 12 features\n",
    "    stft = np.abs(librosa.stft(raw_signal))\n",
    "    contrast = librosa.feature.spectral_contrast(S=stft, sr=sample_rate) # 7 features\n",
    "    return np.concatenate([mfccs, chroma, contrast]) # Total of 39 features per sample\n",
    "\n"
   ]
  },
  {
   "cell_type": "code",
   "execution_count": 8,
   "metadata": {},
   "outputs": [
    {
     "name": "stderr",
     "output_type": "stream",
     "text": [
      "/opt/conda/lib/python3.6/site-packages/librosa/core/pitch.py:146: UserWarning: Trying to estimate tuning from empty frequency set.\n",
      "  warnings.warn('Trying to estimate tuning from empty frequency set.')\n"
     ]
    }
   ],
   "source": [
    "df['feats_raw'] = df.Path.apply(feats_extraction)"
   ]
  },
  {
   "cell_type": "markdown",
   "metadata": {
    "_uuid": "152da8bacffa3e7c0e1230affee7dc1216fbfb15"
   },
   "source": [
    "# Features per File\n",
    "Here we see that extracted values from each data sample has varying length. That is because in each sound, the features are extracted per sample rate.\n"
   ]
  },
  {
   "cell_type": "code",
   "execution_count": 9,
   "metadata": {
    "_uuid": "744ff9d4d6391014e82e73eb4bfb56b3a2617f38"
   },
   "outputs": [
    {
     "data": {
      "text/plain": [
       "0    (39, 10)\n",
       "1    (39, 33)\n",
       "2    (39, 13)\n",
       "3    (39, 33)\n",
       "4    (39, 20)\n",
       "Name: feats_raw, dtype: object"
      ]
     },
     "execution_count": 9,
     "metadata": {},
     "output_type": "execute_result"
    }
   ],
   "source": [
    "df.feats_raw.apply(np.shape).head()"
   ]
  },
  {
   "cell_type": "code",
   "execution_count": 10,
   "metadata": {
    "_uuid": "1f8c5e2f3b0f924624b2bb72a9944668e3bc43a9"
   },
   "outputs": [],
   "source": [
    "def pre_process(feature_matrix):\n",
    "    feats = [\n",
    "        feature_matrix.mean(axis=1),\n",
    "        feature_matrix.std(axis=1),\n",
    "        feature_matrix.min(axis=1),\n",
    "        feature_matrix.max(axis=1),\n",
    "        np.median(feature_matrix, axis=1)\n",
    "    ]\n",
    "    return np.stack(feats).flatten().astype(np.float32)"
   ]
  },
  {
   "cell_type": "code",
   "execution_count": 11,
   "metadata": {
    "_uuid": "06eabe8932f9923ab1c7ab617257344c418ac4cc"
   },
   "outputs": [],
   "source": [
    "df['feats'] = df.feats_raw.apply(pre_process)"
   ]
  },
  {
   "cell_type": "markdown",
   "metadata": {
    "_uuid": "4df6b5a43e5a9cac12aedcf3618634b1406d0445"
   },
   "source": [
    "# Total Features per row"
   ]
  },
  {
   "cell_type": "code",
   "execution_count": 12,
   "metadata": {},
   "outputs": [
    {
     "data": {
      "text/html": [
       "<div>\n",
       "<style scoped>\n",
       "    .dataframe tbody tr th:only-of-type {\n",
       "        vertical-align: middle;\n",
       "    }\n",
       "\n",
       "    .dataframe tbody tr th {\n",
       "        vertical-align: top;\n",
       "    }\n",
       "\n",
       "    .dataframe thead th {\n",
       "        text-align: right;\n",
       "    }\n",
       "</style>\n",
       "<table border=\"1\" class=\"dataframe\">\n",
       "  <thead>\n",
       "    <tr style=\"text-align: right;\">\n",
       "      <th></th>\n",
       "      <th>Path</th>\n",
       "      <th>Label</th>\n",
       "      <th>feats_raw</th>\n",
       "      <th>feats</th>\n",
       "    </tr>\n",
       "  </thead>\n",
       "  <tbody>\n",
       "    <tr>\n",
       "      <th>0</th>\n",
       "      <td>../input/three sounds/Three Sounds/Conga/HR16B...</td>\n",
       "      <td>Conga</td>\n",
       "      <td>[[8.833831787109375, -42.088199615478516, -174...</td>\n",
       "      <td>[-298.05792, 95.76708, -20.481312, -22.881582,...</td>\n",
       "    </tr>\n",
       "    <tr>\n",
       "      <th>1</th>\n",
       "      <td>../input/three sounds/Three Sounds/Conga/MaxV ...</td>\n",
       "      <td>Conga</td>\n",
       "      <td>[[-222.9587860107422, -259.4712219238281, -434...</td>\n",
       "      <td>[-589.03467, 17.177969, 13.053737, 17.017107, ...</td>\n",
       "    </tr>\n",
       "  </tbody>\n",
       "</table>\n",
       "</div>"
      ],
      "text/plain": [
       "                                                Path                        ...                                                                      feats\n",
       "0  ../input/three sounds/Three Sounds/Conga/HR16B...                        ...                          [-298.05792, 95.76708, -20.481312, -22.881582,...\n",
       "1  ../input/three sounds/Three Sounds/Conga/MaxV ...                        ...                          [-589.03467, 17.177969, 13.053737, 17.017107, ...\n",
       "\n",
       "[2 rows x 4 columns]"
      ]
     },
     "execution_count": 12,
     "metadata": {},
     "output_type": "execute_result"
    }
   ],
   "source": [
    "df.head(2)"
   ]
  },
  {
   "cell_type": "code",
   "execution_count": 13,
   "metadata": {
    "_uuid": "abdea478b9c552aafad64b9edc647cf955869804"
   },
   "outputs": [
    {
     "data": {
      "text/plain": [
       "(195,)"
      ]
     },
     "execution_count": 13,
     "metadata": {},
     "output_type": "execute_result"
    }
   ],
   "source": [
    "df.feats[0].shape"
   ]
  },
  {
   "cell_type": "markdown",
   "metadata": {
    "_uuid": "c5db601a9a10c045c20df95657f9e256c6f29aa5"
   },
   "source": [
    "# Encoding Target"
   ]
  },
  {
   "cell_type": "code",
   "execution_count": 14,
   "metadata": {
    "_uuid": "365280ac6c81a2e690031a9a39e26e14a42f5aa8"
   },
   "outputs": [],
   "source": [
    "def one_hot_encode(df, labels):\n",
    "    encoded_labels = [np.zeros(len(labels), dtype='float32') for i in range(len(df))]\n",
    "    for idx, val in enumerate(df['Label']):\n",
    "        encoded_labels[idx][labels.index(val)] = 1\n",
    "    return encoded_labels"
   ]
  },
  {
   "cell_type": "code",
   "execution_count": 15,
   "metadata": {
    "_uuid": "1921940a792c6bf54c353703fb902047e627fe80"
   },
   "outputs": [],
   "source": [
    "df['Target'] = one_hot_encode(df, labels)"
   ]
  },
  {
   "cell_type": "code",
   "execution_count": 16,
   "metadata": {
    "_uuid": "f3e43ac86ca9ca9f76edf4611079315e9e0b2917"
   },
   "outputs": [
    {
     "data": {
      "text/html": [
       "<div>\n",
       "<style scoped>\n",
       "    .dataframe tbody tr th:only-of-type {\n",
       "        vertical-align: middle;\n",
       "    }\n",
       "\n",
       "    .dataframe tbody tr th {\n",
       "        vertical-align: top;\n",
       "    }\n",
       "\n",
       "    .dataframe thead th {\n",
       "        text-align: right;\n",
       "    }\n",
       "</style>\n",
       "<table border=\"1\" class=\"dataframe\">\n",
       "  <thead>\n",
       "    <tr style=\"text-align: right;\">\n",
       "      <th></th>\n",
       "      <th>Path</th>\n",
       "      <th>Label</th>\n",
       "      <th>feats_raw</th>\n",
       "      <th>feats</th>\n",
       "      <th>Target</th>\n",
       "    </tr>\n",
       "  </thead>\n",
       "  <tbody>\n",
       "    <tr>\n",
       "      <th>0</th>\n",
       "      <td>../input/three sounds/Three Sounds/Conga/HR16B...</td>\n",
       "      <td>Conga</td>\n",
       "      <td>[[8.833831787109375, -42.088199615478516, -174...</td>\n",
       "      <td>[-298.05792, 95.76708, -20.481312, -22.881582,...</td>\n",
       "      <td>[1.0, 0.0, 0.0]</td>\n",
       "    </tr>\n",
       "    <tr>\n",
       "      <th>1</th>\n",
       "      <td>../input/three sounds/Three Sounds/Conga/MaxV ...</td>\n",
       "      <td>Conga</td>\n",
       "      <td>[[-222.9587860107422, -259.4712219238281, -434...</td>\n",
       "      <td>[-589.03467, 17.177969, 13.053737, 17.017107, ...</td>\n",
       "      <td>[1.0, 0.0, 0.0]</td>\n",
       "    </tr>\n",
       "    <tr>\n",
       "      <th>2</th>\n",
       "      <td>../input/three sounds/Three Sounds/Conga/DDM22...</td>\n",
       "      <td>Conga</td>\n",
       "      <td>[[11.414876937866211, -36.395416259765625, -20...</td>\n",
       "      <td>[-278.45374, 132.94608, 28.47263, 16.033699, 1...</td>\n",
       "      <td>[1.0, 0.0, 0.0]</td>\n",
       "    </tr>\n",
       "    <tr>\n",
       "      <th>3</th>\n",
       "      <td>../input/three sounds/Three Sounds/Conga/MaxV ...</td>\n",
       "      <td>Conga</td>\n",
       "      <td>[[-94.05001068115234, -144.79180908203125, -34...</td>\n",
       "      <td>[-578.8098, -4.518221, 5.153713, -4.403067, -2...</td>\n",
       "      <td>[1.0, 0.0, 0.0]</td>\n",
       "    </tr>\n",
       "    <tr>\n",
       "      <th>4</th>\n",
       "      <td>../input/three sounds/Three Sounds/Conga/MaxV ...</td>\n",
       "      <td>Conga</td>\n",
       "      <td>[[-9.477093696594238, -53.63145065307617, -195...</td>\n",
       "      <td>[-334.44955, 108.17374, 49.541622, 24.870718, ...</td>\n",
       "      <td>[1.0, 0.0, 0.0]</td>\n",
       "    </tr>\n",
       "  </tbody>\n",
       "</table>\n",
       "</div>"
      ],
      "text/plain": [
       "                                                Path       ...                  Target\n",
       "0  ../input/three sounds/Three Sounds/Conga/HR16B...       ...         [1.0, 0.0, 0.0]\n",
       "1  ../input/three sounds/Three Sounds/Conga/MaxV ...       ...         [1.0, 0.0, 0.0]\n",
       "2  ../input/three sounds/Three Sounds/Conga/DDM22...       ...         [1.0, 0.0, 0.0]\n",
       "3  ../input/three sounds/Three Sounds/Conga/MaxV ...       ...         [1.0, 0.0, 0.0]\n",
       "4  ../input/three sounds/Three Sounds/Conga/MaxV ...       ...         [1.0, 0.0, 0.0]\n",
       "\n",
       "[5 rows x 5 columns]"
      ]
     },
     "execution_count": 16,
     "metadata": {},
     "output_type": "execute_result"
    }
   ],
   "source": [
    "df.head()"
   ]
  },
  {
   "cell_type": "markdown",
   "metadata": {
    "_uuid": "99589666ddff17d6149bf8115c80cb033a1bfb51"
   },
   "source": [
    "# Splitting Dataset"
   ]
  },
  {
   "cell_type": "code",
   "execution_count": 17,
   "metadata": {
    "_uuid": "4173e825b56c798899bd77f24da7089e905bcb3b"
   },
   "outputs": [],
   "source": [
    "indexes = np.arange(len(df))\n",
    "np.random.seed(4) #to ensure values say in the same set during each run and not mix up with other parameters\n",
    "np.random.shuffle(indexes)\n",
    "\n",
    "val_pivot = int(0.7*len(df))\n",
    "test_pivot = int(0.85*len(df))\n",
    "\n",
    "# val_pivot = int(num1*len(df))\n",
    "# test_pivot = int(num2*len(df))\n",
    "\n",
    "train_indexes = indexes[0:val_pivot] # 70% of dataset\n",
    "val_indexes = indexes[val_pivot:test_pivot] # 15% of dataset\n",
    "test_intexes = indexes[test_pivot:] # 15% of dataset"
   ]
  },
  {
   "cell_type": "code",
   "execution_count": 18,
   "metadata": {
    "_uuid": "5d06ebcae878589a06003ac427e15a90aaf1982b"
   },
   "outputs": [],
   "source": [
    "df_train = df.iloc[train_indexes].reset_index(drop=True)\n",
    "df_val = df.iloc[val_indexes].reset_index(drop=True)\n",
    "df_test = df.iloc[test_intexes].reset_index(drop=True)"
   ]
  },
  {
   "cell_type": "code",
   "execution_count": 19,
   "metadata": {
    "_uuid": "ccea7d8e5f82369abd97cfe19d8f2679d09b45d1"
   },
   "outputs": [],
   "source": [
    "train_x, train_y = np.stack(df_train['feats']), np.stack(df_train['Target'])\n",
    "val_x, val_y = np.stack(df_val['feats']), np.stack(df_val['Target'])\n",
    "test_x, test_y = np.stack(df_test['feats']), np.stack(df_test['Target'])"
   ]
  },
  {
   "cell_type": "code",
   "execution_count": 20,
   "metadata": {
    "_uuid": "9ff6cd8f20485f5e68368ba7be134e2bcc1858fd"
   },
   "outputs": [
    {
     "data": {
      "text/html": [
       "<div>\n",
       "<style scoped>\n",
       "    .dataframe tbody tr th:only-of-type {\n",
       "        vertical-align: middle;\n",
       "    }\n",
       "\n",
       "    .dataframe tbody tr th {\n",
       "        vertical-align: top;\n",
       "    }\n",
       "\n",
       "    .dataframe thead th {\n",
       "        text-align: right;\n",
       "    }\n",
       "</style>\n",
       "<table border=\"1\" class=\"dataframe\">\n",
       "  <thead>\n",
       "    <tr style=\"text-align: right;\">\n",
       "      <th></th>\n",
       "      <th>Path</th>\n",
       "      <th>Label</th>\n",
       "      <th>feats_raw</th>\n",
       "      <th>feats</th>\n",
       "      <th>Target</th>\n",
       "    </tr>\n",
       "  </thead>\n",
       "  <tbody>\n",
       "    <tr>\n",
       "      <th>0</th>\n",
       "      <td>../input/three sounds/Three Sounds/Snare/MaxV ...</td>\n",
       "      <td>Snare</td>\n",
       "      <td>[[-6.755455017089844, 4.076188087463379, -39.3...</td>\n",
       "      <td>[-129.5107, 13.090422, -57.29045, -18.167854, ...</td>\n",
       "      <td>[0.0, 1.0, 0.0]</td>\n",
       "    </tr>\n",
       "    <tr>\n",
       "      <th>1</th>\n",
       "      <td>../input/three sounds/Three Sounds/Snare/RY30S...</td>\n",
       "      <td>Snare</td>\n",
       "      <td>[[53.922080993652344, 61.7700309753418, 49.990...</td>\n",
       "      <td>[-89.89738, 38.896896, 6.7960105, 34.293762, 6...</td>\n",
       "      <td>[0.0, 1.0, 0.0]</td>\n",
       "    </tr>\n",
       "    <tr>\n",
       "      <th>2</th>\n",
       "      <td>../input/three sounds/Three Sounds/Snare/Drumu...</td>\n",
       "      <td>Snare</td>\n",
       "      <td>[[2.6553924083709717, -21.465852737426758, -86...</td>\n",
       "      <td>[-97.766624, 37.39725, 12.874951, 53.170284, 7...</td>\n",
       "      <td>[0.0, 1.0, 0.0]</td>\n",
       "    </tr>\n",
       "    <tr>\n",
       "      <th>3</th>\n",
       "      <td>../input/three sounds/Three Sounds/Snare/MaxV ...</td>\n",
       "      <td>Snare</td>\n",
       "      <td>[[62.54996871948242, 47.000675201416016, 30.00...</td>\n",
       "      <td>[-39.352863, 26.458838, 19.381712, 38.533146, ...</td>\n",
       "      <td>[0.0, 1.0, 0.0]</td>\n",
       "    </tr>\n",
       "    <tr>\n",
       "      <th>4</th>\n",
       "      <td>../input/three sounds/Three Sounds/Kick/XR10Ki...</td>\n",
       "      <td>Kick</td>\n",
       "      <td>[[80.26639556884766, 45.581844329833984, -28.6...</td>\n",
       "      <td>[-164.52576, 57.540226, -12.984634, 44.450302,...</td>\n",
       "      <td>[0.0, 0.0, 1.0]</td>\n",
       "    </tr>\n",
       "  </tbody>\n",
       "</table>\n",
       "</div>"
      ],
      "text/plain": [
       "                                                Path       ...                  Target\n",
       "0  ../input/three sounds/Three Sounds/Snare/MaxV ...       ...         [0.0, 1.0, 0.0]\n",
       "1  ../input/three sounds/Three Sounds/Snare/RY30S...       ...         [0.0, 1.0, 0.0]\n",
       "2  ../input/three sounds/Three Sounds/Snare/Drumu...       ...         [0.0, 1.0, 0.0]\n",
       "3  ../input/three sounds/Three Sounds/Snare/MaxV ...       ...         [0.0, 1.0, 0.0]\n",
       "4  ../input/three sounds/Three Sounds/Kick/XR10Ki...       ...         [0.0, 0.0, 1.0]\n",
       "\n",
       "[5 rows x 5 columns]"
      ]
     },
     "execution_count": 20,
     "metadata": {},
     "output_type": "execute_result"
    }
   ],
   "source": [
    "df_test.head()"
   ]
  },
  {
   "cell_type": "code",
   "execution_count": 21,
   "metadata": {
    "_uuid": "2223426c14e6f89fc5361f498a7e2d1e34439ba8"
   },
   "outputs": [
    {
     "data": {
      "text/plain": [
       "((779, 195), (167, 195), (167, 195))"
      ]
     },
     "execution_count": 21,
     "metadata": {},
     "output_type": "execute_result"
    }
   ],
   "source": [
    "train_x.shape, val_x.shape, test_x.shape "
   ]
  },
  {
   "cell_type": "code",
   "execution_count": 22,
   "metadata": {},
   "outputs": [
    {
     "data": {
      "text/plain": [
       "(779, 3)"
      ]
     },
     "execution_count": 22,
     "metadata": {},
     "output_type": "execute_result"
    }
   ],
   "source": [
    "train_y.shape"
   ]
  },
  {
   "cell_type": "markdown",
   "metadata": {
    "_uuid": "8742dc78262e34500fd87d4c09e3cb04a3bda644"
   },
   "source": [
    "# Building Model"
   ]
  },
  {
   "cell_type": "code",
   "execution_count": 23,
   "metadata": {
    "_uuid": "48fd8c34be4d89535f1ca24308212b8198954cc6"
   },
   "outputs": [
    {
     "name": "stderr",
     "output_type": "stream",
     "text": [
      "Using TensorFlow backend.\n"
     ]
    }
   ],
   "source": [
    "from keras.models import Model, Sequential\n",
    "from keras.layers import Input,Dense,Dropout"
   ]
  },
  {
   "cell_type": "code",
   "execution_count": 24,
   "metadata": {},
   "outputs": [
    {
     "data": {
      "text/plain": [
       "3"
      ]
     },
     "execution_count": 24,
     "metadata": {},
     "output_type": "execute_result"
    }
   ],
   "source": [
    "Output_num = len(df['Target'][0])\n",
    "Output_num"
   ]
  },
  {
   "cell_type": "code",
   "execution_count": 25,
   "metadata": {
    "_uuid": "78fe198a1e9928c38c14d91edd5283d5e94ebd03"
   },
   "outputs": [],
   "source": [
    "#This returns a tensor\n",
    "# inputs = Input(shape=(train_x.shape[1],))\n",
    "\n",
    "model = Sequential()\n",
    "model.add(Dense(128, activation='relu',kernel_initializer=\"random_uniform\", bias_initializer=\"zeros\"))\n",
    "model.add(Dropout(0.30))\n",
    "model.add(Dense(64, activation='relu',kernel_initializer=\"random_uniform\", bias_initializer=\"zeros\"))\n",
    "model.add(Dropout(0.20))\n",
    "model.add(Dense(32, activation='relu',kernel_initializer=\"random_uniform\", bias_initializer=\"zeros\"))\n",
    "model.add(Dropout(0.10))\n",
    "model.add(Dense(Output_num, activation='softmax'))\n",
    "\n",
    "# # a layer instance is callable on a tensor, and returns a tensor\n",
    "# x = Dense(64, activation='relu')(inputs)\n",
    "# x = Dense(64, activation='relu')(x)\n",
    "# x = Dense(64, activation='relu')(x)\n",
    "# x = Dense(64, activation='relu',kernel_initializer=\"random_uniform\", bias_initializer=\"zeros\")(inputs)\n",
    "# x = Dense(64, activation='relu',kernel_initializer=\"random_uniform\", bias_initializer=\"zeros\")(x)\n",
    "# x = Dense(64, activation='relu',kernel_initializer=\"random_uniform\", bias_initializer=\"zeros\")(x)\n",
    "# predictions = Dense(Output_num, activation='softmax')(x)\n",
    "#predictions = Dense(3, activation='softmax')(x)\n",
    "# predictions = Dense(2, activation='softmax')(inputs)\n",
    "\n",
    "# # This creates a model that includes\n",
    "# # the Input layer and three Dense layers\n",
    "# model = Model(inputs=inputs, outputs=predictions)\n",
    "\n",
    "model.compile(optimizer='rmsprop',\n",
    "              loss='categorical_crossentropy',\n",
    "              metrics=['accuracy'])\n",
    "# print(model.summary())"
   ]
  },
  {
   "cell_type": "code",
   "execution_count": 26,
   "metadata": {
    "_uuid": "03486555ee0080a93214600b539d5ea73d1b1e75"
   },
   "outputs": [
    {
     "name": "stdout",
     "output_type": "stream",
     "text": [
      "Train on 779 samples, validate on 167 samples\n",
      "Epoch 1/200\n",
      "779/779 [==============================] - 2s 3ms/step - loss: 0.7009 - acc: 0.7471 - val_loss: 0.2651 - val_acc: 0.8922\n",
      "Epoch 2/200\n",
      "779/779 [==============================] - 0s 68us/step - loss: 0.3722 - acc: 0.8691 - val_loss: 0.1856 - val_acc: 0.9581\n",
      "Epoch 3/200\n",
      "779/779 [==============================] - 0s 68us/step - loss: 0.2467 - acc: 0.9089 - val_loss: 0.1520 - val_acc: 0.9521\n",
      "Epoch 4/200\n",
      "779/779 [==============================] - 0s 65us/step - loss: 0.2500 - acc: 0.9140 - val_loss: 0.2135 - val_acc: 0.9401\n",
      "Epoch 5/200\n",
      "779/779 [==============================] - 0s 59us/step - loss: 0.2182 - acc: 0.9243 - val_loss: 0.1475 - val_acc: 0.9461\n",
      "Epoch 6/200\n",
      "779/779 [==============================] - 0s 59us/step - loss: 0.1991 - acc: 0.9307 - val_loss: 0.2206 - val_acc: 0.9102\n",
      "Epoch 7/200\n",
      "779/779 [==============================] - 0s 59us/step - loss: 0.1822 - acc: 0.9461 - val_loss: 0.4016 - val_acc: 0.8743\n",
      "Epoch 8/200\n",
      "779/779 [==============================] - 0s 58us/step - loss: 0.1953 - acc: 0.9397 - val_loss: 0.1280 - val_acc: 0.9581\n",
      "Epoch 9/200\n",
      "779/779 [==============================] - 0s 60us/step - loss: 0.1698 - acc: 0.9409 - val_loss: 0.1542 - val_acc: 0.9581\n",
      "Epoch 10/200\n",
      "779/779 [==============================] - 0s 59us/step - loss: 0.1348 - acc: 0.9576 - val_loss: 0.1449 - val_acc: 0.9461\n",
      "Epoch 11/200\n",
      "779/779 [==============================] - 0s 58us/step - loss: 0.1857 - acc: 0.9409 - val_loss: 0.2411 - val_acc: 0.9341\n",
      "Epoch 12/200\n",
      "779/779 [==============================] - 0s 59us/step - loss: 0.1223 - acc: 0.9628 - val_loss: 0.2037 - val_acc: 0.9401\n",
      "Epoch 13/200\n",
      "779/779 [==============================] - 0s 59us/step - loss: 0.1310 - acc: 0.9564 - val_loss: 0.1198 - val_acc: 0.9641\n",
      "Epoch 14/200\n",
      "779/779 [==============================] - 0s 61us/step - loss: 0.1303 - acc: 0.9628 - val_loss: 0.1435 - val_acc: 0.9701\n",
      "Epoch 15/200\n",
      "779/779 [==============================] - 0s 60us/step - loss: 0.1206 - acc: 0.9602 - val_loss: 0.1601 - val_acc: 0.9641\n",
      "Epoch 16/200\n",
      "779/779 [==============================] - 0s 59us/step - loss: 0.1134 - acc: 0.9679 - val_loss: 0.1408 - val_acc: 0.9701\n",
      "Epoch 17/200\n",
      "779/779 [==============================] - 0s 59us/step - loss: 0.1409 - acc: 0.9538 - val_loss: 0.1551 - val_acc: 0.9461\n",
      "Epoch 18/200\n",
      "779/779 [==============================] - 0s 58us/step - loss: 0.0986 - acc: 0.9666 - val_loss: 0.1472 - val_acc: 0.9641\n",
      "Epoch 19/200\n",
      "779/779 [==============================] - 0s 58us/step - loss: 0.1117 - acc: 0.9602 - val_loss: 0.1270 - val_acc: 0.9641\n",
      "Epoch 20/200\n",
      "779/779 [==============================] - 0s 60us/step - loss: 0.0888 - acc: 0.9705 - val_loss: 0.1625 - val_acc: 0.9641\n",
      "Epoch 21/200\n",
      "779/779 [==============================] - 0s 60us/step - loss: 0.1329 - acc: 0.9718 - val_loss: 0.1198 - val_acc: 0.9641\n",
      "Epoch 22/200\n",
      "779/779 [==============================] - 0s 58us/step - loss: 0.0902 - acc: 0.9666 - val_loss: 0.1303 - val_acc: 0.9641\n",
      "Epoch 23/200\n",
      "779/779 [==============================] - 0s 58us/step - loss: 0.1011 - acc: 0.9666 - val_loss: 0.1696 - val_acc: 0.9641\n",
      "Epoch 24/200\n",
      "779/779 [==============================] - 0s 63us/step - loss: 0.0833 - acc: 0.9705 - val_loss: 0.1303 - val_acc: 0.9581\n",
      "Epoch 25/200\n",
      "779/779 [==============================] - 0s 61us/step - loss: 0.1100 - acc: 0.9615 - val_loss: 0.1074 - val_acc: 0.9641\n",
      "Epoch 26/200\n",
      "779/779 [==============================] - 0s 59us/step - loss: 0.0759 - acc: 0.9756 - val_loss: 0.1545 - val_acc: 0.9641\n",
      "Epoch 27/200\n",
      "779/779 [==============================] - 0s 59us/step - loss: 0.0890 - acc: 0.9692 - val_loss: 0.1493 - val_acc: 0.9701\n",
      "Epoch 28/200\n",
      "779/779 [==============================] - 0s 59us/step - loss: 0.0614 - acc: 0.9782 - val_loss: 0.1712 - val_acc: 0.9701\n",
      "Epoch 29/200\n",
      "779/779 [==============================] - 0s 60us/step - loss: 0.0941 - acc: 0.9718 - val_loss: 0.3040 - val_acc: 0.9461\n",
      "Epoch 30/200\n",
      "779/779 [==============================] - 0s 58us/step - loss: 0.1128 - acc: 0.9718 - val_loss: 0.1238 - val_acc: 0.9641\n",
      "Epoch 31/200\n",
      "779/779 [==============================] - 0s 69us/step - loss: 0.0734 - acc: 0.9718 - val_loss: 0.1488 - val_acc: 0.9760\n",
      "Epoch 32/200\n",
      "779/779 [==============================] - 0s 60us/step - loss: 0.0642 - acc: 0.9833 - val_loss: 0.1608 - val_acc: 0.9641\n",
      "Epoch 33/200\n",
      "779/779 [==============================] - 0s 58us/step - loss: 0.0741 - acc: 0.9743 - val_loss: 0.1880 - val_acc: 0.9581\n",
      "Epoch 34/200\n",
      "779/779 [==============================] - 0s 61us/step - loss: 0.0818 - acc: 0.9730 - val_loss: 0.1822 - val_acc: 0.9461\n",
      "Epoch 35/200\n",
      "779/779 [==============================] - 0s 59us/step - loss: 0.0696 - acc: 0.9718 - val_loss: 0.2226 - val_acc: 0.9581\n",
      "Epoch 36/200\n",
      "779/779 [==============================] - 0s 60us/step - loss: 0.0533 - acc: 0.9820 - val_loss: 0.1607 - val_acc: 0.9641\n",
      "Epoch 37/200\n",
      "779/779 [==============================] - 0s 58us/step - loss: 0.0694 - acc: 0.9820 - val_loss: 0.1699 - val_acc: 0.9641\n",
      "Epoch 38/200\n",
      "779/779 [==============================] - 0s 59us/step - loss: 0.0642 - acc: 0.9782 - val_loss: 0.1683 - val_acc: 0.9641\n",
      "Epoch 39/200\n",
      "779/779 [==============================] - 0s 58us/step - loss: 0.0743 - acc: 0.9743 - val_loss: 0.1388 - val_acc: 0.9701\n",
      "Epoch 40/200\n",
      "779/779 [==============================] - 0s 57us/step - loss: 0.0573 - acc: 0.9756 - val_loss: 0.1374 - val_acc: 0.9641\n",
      "Epoch 41/200\n",
      "779/779 [==============================] - 0s 59us/step - loss: 0.0412 - acc: 0.9884 - val_loss: 0.1792 - val_acc: 0.9701\n",
      "Epoch 42/200\n",
      "779/779 [==============================] - 0s 59us/step - loss: 0.0746 - acc: 0.9730 - val_loss: 0.2178 - val_acc: 0.9461\n",
      "Epoch 43/200\n",
      "779/779 [==============================] - 0s 58us/step - loss: 0.0755 - acc: 0.9718 - val_loss: 0.1184 - val_acc: 0.9701\n",
      "Epoch 44/200\n",
      "779/779 [==============================] - 0s 60us/step - loss: 0.0460 - acc: 0.9807 - val_loss: 0.1876 - val_acc: 0.9760\n",
      "Epoch 45/200\n",
      "779/779 [==============================] - 0s 61us/step - loss: 0.0387 - acc: 0.9833 - val_loss: 0.1865 - val_acc: 0.9641\n",
      "Epoch 46/200\n",
      "779/779 [==============================] - 0s 62us/step - loss: 0.0397 - acc: 0.9910 - val_loss: 0.1475 - val_acc: 0.9760\n",
      "Epoch 47/200\n",
      "779/779 [==============================] - 0s 61us/step - loss: 0.0851 - acc: 0.9743 - val_loss: 0.1431 - val_acc: 0.9701\n",
      "Epoch 48/200\n",
      "779/779 [==============================] - 0s 60us/step - loss: 0.0602 - acc: 0.9756 - val_loss: 0.2049 - val_acc: 0.9701\n",
      "Epoch 49/200\n",
      "779/779 [==============================] - 0s 58us/step - loss: 0.0498 - acc: 0.9820 - val_loss: 0.1624 - val_acc: 0.9521\n",
      "Epoch 50/200\n",
      "779/779 [==============================] - 0s 58us/step - loss: 0.0724 - acc: 0.9795 - val_loss: 0.1560 - val_acc: 0.9701\n",
      "Epoch 51/200\n",
      "779/779 [==============================] - 0s 61us/step - loss: 0.0419 - acc: 0.9872 - val_loss: 0.1293 - val_acc: 0.9760\n",
      "Epoch 52/200\n",
      "779/779 [==============================] - 0s 58us/step - loss: 0.0497 - acc: 0.9795 - val_loss: 0.1466 - val_acc: 0.9641\n",
      "Epoch 53/200\n",
      "779/779 [==============================] - 0s 58us/step - loss: 0.0402 - acc: 0.9872 - val_loss: 0.1961 - val_acc: 0.9701\n",
      "Epoch 54/200\n",
      "779/779 [==============================] - 0s 58us/step - loss: 0.0549 - acc: 0.9820 - val_loss: 0.1227 - val_acc: 0.9581\n",
      "Epoch 55/200\n",
      "779/779 [==============================] - 0s 59us/step - loss: 0.0642 - acc: 0.9730 - val_loss: 0.2003 - val_acc: 0.9701\n",
      "Epoch 56/200\n",
      "779/779 [==============================] - 0s 59us/step - loss: 0.0487 - acc: 0.9846 - val_loss: 0.1760 - val_acc: 0.9701\n",
      "Epoch 57/200\n",
      "779/779 [==============================] - 0s 59us/step - loss: 0.0482 - acc: 0.9859 - val_loss: 0.1845 - val_acc: 0.9701\n",
      "Epoch 58/200\n",
      "779/779 [==============================] - 0s 60us/step - loss: 0.0266 - acc: 0.9872 - val_loss: 0.1554 - val_acc: 0.9581\n",
      "Epoch 59/200\n",
      "779/779 [==============================] - 0s 57us/step - loss: 0.0602 - acc: 0.9769 - val_loss: 0.1431 - val_acc: 0.9641\n",
      "Epoch 60/200\n",
      "779/779 [==============================] - 0s 58us/step - loss: 0.0418 - acc: 0.9859 - val_loss: 0.1934 - val_acc: 0.9581\n",
      "Epoch 61/200\n",
      "779/779 [==============================] - 0s 58us/step - loss: 0.0415 - acc: 0.9859 - val_loss: 0.4210 - val_acc: 0.9401\n",
      "Epoch 62/200\n",
      "779/779 [==============================] - 0s 58us/step - loss: 0.0569 - acc: 0.9820 - val_loss: 0.1961 - val_acc: 0.9641\n",
      "Epoch 63/200\n",
      "779/779 [==============================] - 0s 58us/step - loss: 0.0676 - acc: 0.9820 - val_loss: 0.1533 - val_acc: 0.9701\n",
      "Epoch 64/200\n",
      "779/779 [==============================] - 0s 61us/step - loss: 0.0390 - acc: 0.9859 - val_loss: 0.1614 - val_acc: 0.9641\n",
      "Epoch 65/200\n",
      "779/779 [==============================] - 0s 58us/step - loss: 0.0323 - acc: 0.9910 - val_loss: 0.2839 - val_acc: 0.9701\n",
      "Epoch 66/200\n",
      "779/779 [==============================] - 0s 60us/step - loss: 0.0431 - acc: 0.9872 - val_loss: 0.2199 - val_acc: 0.9760\n",
      "Epoch 67/200\n",
      "779/779 [==============================] - 0s 64us/step - loss: 0.0372 - acc: 0.9846 - val_loss: 0.2648 - val_acc: 0.9641\n",
      "Epoch 68/200\n",
      "779/779 [==============================] - 0s 58us/step - loss: 0.0351 - acc: 0.9872 - val_loss: 0.2174 - val_acc: 0.9641\n",
      "Epoch 69/200\n",
      "779/779 [==============================] - 0s 60us/step - loss: 0.0363 - acc: 0.9820 - val_loss: 0.1878 - val_acc: 0.9701\n",
      "Epoch 70/200\n",
      "779/779 [==============================] - 0s 58us/step - loss: 0.0372 - acc: 0.9910 - val_loss: 0.2160 - val_acc: 0.9701\n",
      "Epoch 71/200\n",
      "779/779 [==============================] - 0s 58us/step - loss: 0.0357 - acc: 0.9910 - val_loss: 0.3369 - val_acc: 0.9521\n",
      "Epoch 72/200\n",
      "779/779 [==============================] - 0s 57us/step - loss: 0.0388 - acc: 0.9872 - val_loss: 0.3739 - val_acc: 0.9521\n",
      "Epoch 73/200\n",
      "779/779 [==============================] - 0s 60us/step - loss: 0.0881 - acc: 0.9743 - val_loss: 0.2239 - val_acc: 0.9461\n",
      "Epoch 74/200\n",
      "779/779 [==============================] - 0s 60us/step - loss: 0.0554 - acc: 0.9846 - val_loss: 0.2632 - val_acc: 0.9581\n",
      "Epoch 75/200\n",
      "779/779 [==============================] - 0s 58us/step - loss: 0.0930 - acc: 0.9743 - val_loss: 0.1674 - val_acc: 0.9641\n",
      "Epoch 76/200\n",
      "779/779 [==============================] - 0s 57us/step - loss: 0.0356 - acc: 0.9936 - val_loss: 0.2183 - val_acc: 0.9641\n",
      "Epoch 77/200\n",
      "779/779 [==============================] - 0s 58us/step - loss: 0.0222 - acc: 0.9910 - val_loss: 0.2665 - val_acc: 0.9521\n",
      "Epoch 78/200\n",
      "779/779 [==============================] - 0s 60us/step - loss: 0.0213 - acc: 0.9897 - val_loss: 0.2611 - val_acc: 0.9641\n",
      "Epoch 79/200\n",
      "779/779 [==============================] - 0s 61us/step - loss: 0.0360 - acc: 0.9846 - val_loss: 0.1929 - val_acc: 0.9641\n",
      "Epoch 80/200\n",
      "779/779 [==============================] - 0s 58us/step - loss: 0.0242 - acc: 0.9897 - val_loss: 0.4051 - val_acc: 0.9581\n",
      "Epoch 81/200\n",
      "779/779 [==============================] - 0s 58us/step - loss: 0.0586 - acc: 0.9872 - val_loss: 0.2398 - val_acc: 0.9701\n",
      "Epoch 82/200\n",
      "779/779 [==============================] - 0s 59us/step - loss: 0.0287 - acc: 0.9884 - val_loss: 0.2890 - val_acc: 0.9641\n",
      "Epoch 83/200\n",
      "779/779 [==============================] - 0s 59us/step - loss: 0.0272 - acc: 0.9923 - val_loss: 0.2629 - val_acc: 0.9641\n",
      "Epoch 84/200\n",
      "779/779 [==============================] - 0s 58us/step - loss: 0.0525 - acc: 0.9833 - val_loss: 0.2265 - val_acc: 0.9581\n",
      "Epoch 85/200\n",
      "779/779 [==============================] - 0s 59us/step - loss: 0.0212 - acc: 0.9949 - val_loss: 0.2601 - val_acc: 0.9581\n",
      "Epoch 86/200\n",
      "779/779 [==============================] - 0s 59us/step - loss: 0.0420 - acc: 0.9897 - val_loss: 0.2104 - val_acc: 0.9641\n",
      "Epoch 87/200\n",
      "779/779 [==============================] - 0s 58us/step - loss: 0.0432 - acc: 0.9833 - val_loss: 0.2107 - val_acc: 0.9641\n",
      "Epoch 88/200\n",
      "779/779 [==============================] - 0s 63us/step - loss: 0.0342 - acc: 0.9872 - val_loss: 0.2144 - val_acc: 0.9641\n",
      "Epoch 89/200\n",
      "779/779 [==============================] - 0s 60us/step - loss: 0.0134 - acc: 0.9936 - val_loss: 0.2277 - val_acc: 0.9581\n",
      "Epoch 90/200\n",
      "779/779 [==============================] - 0s 60us/step - loss: 0.0731 - acc: 0.9782 - val_loss: 0.1771 - val_acc: 0.9641\n",
      "Epoch 91/200\n",
      "779/779 [==============================] - 0s 58us/step - loss: 0.0291 - acc: 0.9949 - val_loss: 0.1982 - val_acc: 0.9641\n",
      "Epoch 92/200\n",
      "779/779 [==============================] - 0s 58us/step - loss: 0.0321 - acc: 0.9949 - val_loss: 0.2645 - val_acc: 0.9641\n",
      "Epoch 93/200\n",
      "779/779 [==============================] - 0s 59us/step - loss: 0.0316 - acc: 0.9923 - val_loss: 0.2419 - val_acc: 0.9641\n",
      "Epoch 94/200\n",
      "779/779 [==============================] - 0s 60us/step - loss: 0.0405 - acc: 0.9846 - val_loss: 0.2398 - val_acc: 0.9581\n",
      "Epoch 95/200\n",
      "779/779 [==============================] - 0s 60us/step - loss: 0.0293 - acc: 0.9884 - val_loss: 0.3265 - val_acc: 0.9581\n",
      "Epoch 96/200\n",
      "779/779 [==============================] - 0s 60us/step - loss: 0.0334 - acc: 0.9872 - val_loss: 0.2749 - val_acc: 0.9641\n",
      "Epoch 97/200\n",
      "779/779 [==============================] - 0s 58us/step - loss: 0.0450 - acc: 0.9884 - val_loss: 0.3609 - val_acc: 0.9641\n",
      "Epoch 98/200\n",
      "779/779 [==============================] - 0s 59us/step - loss: 0.0519 - acc: 0.9859 - val_loss: 0.2911 - val_acc: 0.9641\n",
      "Epoch 99/200\n",
      "779/779 [==============================] - 0s 58us/step - loss: 0.0405 - acc: 0.9923 - val_loss: 0.3038 - val_acc: 0.9641\n",
      "Epoch 100/200\n",
      "779/779 [==============================] - 0s 58us/step - loss: 0.0588 - acc: 0.9846 - val_loss: 0.2517 - val_acc: 0.9581\n",
      "Epoch 101/200\n",
      "779/779 [==============================] - 0s 60us/step - loss: 0.0374 - acc: 0.9897 - val_loss: 0.2549 - val_acc: 0.9581\n",
      "Epoch 102/200\n",
      "779/779 [==============================] - 0s 59us/step - loss: 0.0098 - acc: 0.9974 - val_loss: 0.2644 - val_acc: 0.9641\n",
      "Epoch 103/200\n",
      "779/779 [==============================] - 0s 58us/step - loss: 0.0488 - acc: 0.9807 - val_loss: 0.3322 - val_acc: 0.9641\n",
      "Epoch 104/200\n",
      "779/779 [==============================] - 0s 58us/step - loss: 0.0153 - acc: 0.9949 - val_loss: 0.2648 - val_acc: 0.9581\n",
      "Epoch 105/200\n",
      "779/779 [==============================] - 0s 60us/step - loss: 0.0340 - acc: 0.9884 - val_loss: 0.2441 - val_acc: 0.9581\n",
      "Epoch 106/200\n",
      "779/779 [==============================] - 0s 59us/step - loss: 0.0179 - acc: 0.9936 - val_loss: 0.1835 - val_acc: 0.9701\n",
      "Epoch 107/200\n",
      "779/779 [==============================] - 0s 58us/step - loss: 0.0332 - acc: 0.9910 - val_loss: 0.3038 - val_acc: 0.9581\n",
      "Epoch 108/200\n",
      "779/779 [==============================] - 0s 59us/step - loss: 0.0406 - acc: 0.9846 - val_loss: 0.2626 - val_acc: 0.9641\n",
      "Epoch 109/200\n",
      "779/779 [==============================] - 0s 62us/step - loss: 0.0357 - acc: 0.9897 - val_loss: 0.2247 - val_acc: 0.9701\n",
      "Epoch 110/200\n",
      "779/779 [==============================] - 0s 62us/step - loss: 0.0182 - acc: 0.9910 - val_loss: 0.2546 - val_acc: 0.9760\n",
      "Epoch 111/200\n",
      "779/779 [==============================] - 0s 60us/step - loss: 0.0297 - acc: 0.9884 - val_loss: 0.2686 - val_acc: 0.9760\n",
      "Epoch 112/200\n",
      "779/779 [==============================] - 0s 60us/step - loss: 0.0281 - acc: 0.9897 - val_loss: 0.2290 - val_acc: 0.9701\n",
      "Epoch 113/200\n",
      "779/779 [==============================] - 0s 60us/step - loss: 0.0276 - acc: 0.9910 - val_loss: 0.2728 - val_acc: 0.9641\n",
      "Epoch 114/200\n",
      "779/779 [==============================] - 0s 58us/step - loss: 0.0331 - acc: 0.9923 - val_loss: 0.2305 - val_acc: 0.9760\n",
      "Epoch 115/200\n",
      "779/779 [==============================] - 0s 59us/step - loss: 0.0543 - acc: 0.9846 - val_loss: 0.2049 - val_acc: 0.9641\n",
      "Epoch 116/200\n",
      "779/779 [==============================] - 0s 58us/step - loss: 0.0166 - acc: 0.9936 - val_loss: 0.3121 - val_acc: 0.9521\n",
      "Epoch 117/200\n",
      "779/779 [==============================] - 0s 59us/step - loss: 0.0355 - acc: 0.9923 - val_loss: 0.2794 - val_acc: 0.9701\n",
      "Epoch 118/200\n",
      "779/779 [==============================] - 0s 59us/step - loss: 0.0593 - acc: 0.9833 - val_loss: 0.2057 - val_acc: 0.9641\n",
      "Epoch 119/200\n",
      "779/779 [==============================] - 0s 59us/step - loss: 0.0262 - acc: 0.9910 - val_loss: 0.2039 - val_acc: 0.9760\n",
      "Epoch 120/200\n",
      "779/779 [==============================] - 0s 61us/step - loss: 0.0317 - acc: 0.9910 - val_loss: 0.2693 - val_acc: 0.9581\n",
      "Epoch 121/200\n",
      "779/779 [==============================] - 0s 58us/step - loss: 0.0097 - acc: 0.9961 - val_loss: 0.4141 - val_acc: 0.9581\n",
      "Epoch 122/200\n",
      "779/779 [==============================] - 0s 63us/step - loss: 0.0310 - acc: 0.9897 - val_loss: 0.2100 - val_acc: 0.9701\n",
      "Epoch 123/200\n",
      "779/779 [==============================] - 0s 57us/step - loss: 0.0163 - acc: 0.9949 - val_loss: 0.2666 - val_acc: 0.9760\n",
      "Epoch 124/200\n",
      "779/779 [==============================] - 0s 60us/step - loss: 0.0143 - acc: 0.9949 - val_loss: 0.3227 - val_acc: 0.9641\n",
      "Epoch 125/200\n",
      "779/779 [==============================] - 0s 57us/step - loss: 0.0135 - acc: 0.9961 - val_loss: 0.3025 - val_acc: 0.9701\n",
      "Epoch 126/200\n",
      "779/779 [==============================] - 0s 59us/step - loss: 0.0261 - acc: 0.9936 - val_loss: 0.3159 - val_acc: 0.9641\n",
      "Epoch 127/200\n",
      "779/779 [==============================] - 0s 66us/step - loss: 0.0241 - acc: 0.9936 - val_loss: 0.2827 - val_acc: 0.9701\n",
      "Epoch 128/200\n",
      "779/779 [==============================] - 0s 59us/step - loss: 0.0278 - acc: 0.9936 - val_loss: 0.3669 - val_acc: 0.9641\n",
      "Epoch 129/200\n",
      "779/779 [==============================] - 0s 57us/step - loss: 0.0378 - acc: 0.9910 - val_loss: 0.3205 - val_acc: 0.9581\n",
      "Epoch 130/200\n",
      "779/779 [==============================] - 0s 59us/step - loss: 0.0623 - acc: 0.9859 - val_loss: 0.2284 - val_acc: 0.9760\n",
      "Epoch 131/200\n",
      "779/779 [==============================] - 0s 62us/step - loss: 0.0136 - acc: 0.9961 - val_loss: 0.3536 - val_acc: 0.9341\n",
      "Epoch 132/200\n",
      "779/779 [==============================] - 0s 59us/step - loss: 0.0246 - acc: 0.9949 - val_loss: 0.2740 - val_acc: 0.9760\n",
      "Epoch 133/200\n",
      "779/779 [==============================] - 0s 60us/step - loss: 0.0099 - acc: 0.9974 - val_loss: 0.2867 - val_acc: 0.9760\n",
      "Epoch 134/200\n",
      "779/779 [==============================] - 0s 59us/step - loss: 0.0306 - acc: 0.9936 - val_loss: 0.3312 - val_acc: 0.9760\n",
      "Epoch 135/200\n",
      "779/779 [==============================] - 0s 59us/step - loss: 0.0350 - acc: 0.9897 - val_loss: 0.2782 - val_acc: 0.9641\n",
      "Epoch 136/200\n",
      "779/779 [==============================] - 0s 59us/step - loss: 0.0325 - acc: 0.9949 - val_loss: 0.2741 - val_acc: 0.9701\n",
      "Epoch 137/200\n",
      "779/779 [==============================] - 0s 59us/step - loss: 0.0144 - acc: 0.9961 - val_loss: 0.2859 - val_acc: 0.9701\n",
      "Epoch 138/200\n",
      "779/779 [==============================] - 0s 58us/step - loss: 0.0123 - acc: 0.9974 - val_loss: 0.2879 - val_acc: 0.9701\n",
      "Epoch 139/200\n",
      "779/779 [==============================] - 0s 57us/step - loss: 0.0148 - acc: 0.9949 - val_loss: 0.3459 - val_acc: 0.9641\n",
      "Epoch 140/200\n",
      "779/779 [==============================] - 0s 58us/step - loss: 0.0274 - acc: 0.9897 - val_loss: 0.3197 - val_acc: 0.9701\n",
      "Epoch 141/200\n",
      "779/779 [==============================] - 0s 58us/step - loss: 0.0385 - acc: 0.9884 - val_loss: 0.2988 - val_acc: 0.9701\n",
      "Epoch 142/200\n",
      "779/779 [==============================] - 0s 61us/step - loss: 0.0077 - acc: 0.9961 - val_loss: 0.2934 - val_acc: 0.9701\n",
      "Epoch 143/200\n",
      "779/779 [==============================] - 0s 59us/step - loss: 0.0025 - acc: 1.0000 - val_loss: 0.2933 - val_acc: 0.9641\n",
      "Epoch 144/200\n",
      "779/779 [==============================] - 0s 58us/step - loss: 0.0493 - acc: 0.9897 - val_loss: 0.3805 - val_acc: 0.9701\n",
      "Epoch 145/200\n",
      "779/779 [==============================] - 0s 59us/step - loss: 0.0401 - acc: 0.9884 - val_loss: 0.3266 - val_acc: 0.9641\n",
      "Epoch 146/200\n",
      "779/779 [==============================] - 0s 58us/step - loss: 0.0195 - acc: 0.9949 - val_loss: 0.3334 - val_acc: 0.9641\n",
      "Epoch 147/200\n",
      "779/779 [==============================] - 0s 59us/step - loss: 0.0234 - acc: 0.9923 - val_loss: 0.3322 - val_acc: 0.9701\n",
      "Epoch 148/200\n",
      "779/779 [==============================] - 0s 59us/step - loss: 0.0205 - acc: 0.9974 - val_loss: 0.2307 - val_acc: 0.9701\n",
      "Epoch 149/200\n",
      "779/779 [==============================] - 0s 62us/step - loss: 0.0257 - acc: 0.9910 - val_loss: 0.3781 - val_acc: 0.9641\n",
      "Epoch 150/200\n",
      "779/779 [==============================] - 0s 58us/step - loss: 0.0180 - acc: 0.9936 - val_loss: 0.3296 - val_acc: 0.9641\n",
      "Epoch 151/200\n",
      "779/779 [==============================] - 0s 58us/step - loss: 0.0151 - acc: 0.9961 - val_loss: 0.3285 - val_acc: 0.9581\n",
      "Epoch 152/200\n",
      "779/779 [==============================] - 0s 62us/step - loss: 0.0111 - acc: 0.9974 - val_loss: 0.3031 - val_acc: 0.9760\n",
      "Epoch 153/200\n",
      "779/779 [==============================] - 0s 75us/step - loss: 0.0349 - acc: 0.9936 - val_loss: 0.3712 - val_acc: 0.9701\n",
      "Epoch 154/200\n",
      "779/779 [==============================] - 0s 66us/step - loss: 0.0103 - acc: 0.9974 - val_loss: 0.3934 - val_acc: 0.9641\n",
      "Epoch 155/200\n",
      "779/779 [==============================] - 0s 60us/step - loss: 0.0090 - acc: 0.9987 - val_loss: 0.3126 - val_acc: 0.9701\n",
      "Epoch 156/200\n",
      "779/779 [==============================] - 0s 58us/step - loss: 0.0398 - acc: 0.9859 - val_loss: 0.3704 - val_acc: 0.9701\n",
      "Epoch 157/200\n",
      "779/779 [==============================] - 0s 59us/step - loss: 0.0125 - acc: 0.9949 - val_loss: 0.3700 - val_acc: 0.9701\n",
      "Epoch 158/200\n",
      "779/779 [==============================] - 0s 59us/step - loss: 0.0272 - acc: 0.9923 - val_loss: 0.3235 - val_acc: 0.9701\n",
      "Epoch 159/200\n",
      "779/779 [==============================] - 0s 61us/step - loss: 0.0028 - acc: 0.9987 - val_loss: 0.3765 - val_acc: 0.9581\n",
      "Epoch 160/200\n",
      "779/779 [==============================] - 0s 58us/step - loss: 0.0170 - acc: 0.9949 - val_loss: 0.3591 - val_acc: 0.9641\n",
      "Epoch 161/200\n",
      "779/779 [==============================] - 0s 58us/step - loss: 0.0445 - acc: 0.9859 - val_loss: 0.2528 - val_acc: 0.9760\n",
      "Epoch 162/200\n",
      "779/779 [==============================] - 0s 64us/step - loss: 0.0058 - acc: 0.9974 - val_loss: 0.2759 - val_acc: 0.9760\n",
      "Epoch 163/200\n",
      "779/779 [==============================] - 0s 62us/step - loss: 0.0057 - acc: 0.9961 - val_loss: 0.4062 - val_acc: 0.9521\n",
      "Epoch 164/200\n",
      "779/779 [==============================] - 0s 59us/step - loss: 0.0323 - acc: 0.9923 - val_loss: 0.2991 - val_acc: 0.9641\n",
      "Epoch 165/200\n",
      "779/779 [==============================] - 0s 59us/step - loss: 0.0241 - acc: 0.9910 - val_loss: 0.2504 - val_acc: 0.9701\n",
      "Epoch 166/200\n",
      "779/779 [==============================] - 0s 59us/step - loss: 0.0165 - acc: 0.9949 - val_loss: 0.3402 - val_acc: 0.9760\n",
      "Epoch 167/200\n",
      "779/779 [==============================] - 0s 57us/step - loss: 0.0291 - acc: 0.9897 - val_loss: 0.4247 - val_acc: 0.9641\n",
      "Epoch 168/200\n",
      "779/779 [==============================] - 0s 58us/step - loss: 0.0048 - acc: 0.9987 - val_loss: 0.3023 - val_acc: 0.9760\n",
      "Epoch 169/200\n",
      "779/779 [==============================] - 0s 61us/step - loss: 0.0183 - acc: 0.9961 - val_loss: 0.3050 - val_acc: 0.9641\n",
      "Epoch 170/200\n",
      "779/779 [==============================] - 0s 58us/step - loss: 0.0015 - acc: 1.0000 - val_loss: 0.3415 - val_acc: 0.9641\n",
      "Epoch 171/200\n",
      "779/779 [==============================] - 0s 60us/step - loss: 0.0212 - acc: 0.9949 - val_loss: 0.2600 - val_acc: 0.9701\n",
      "Epoch 172/200\n",
      "779/779 [==============================] - 0s 60us/step - loss: 0.0036 - acc: 0.9974 - val_loss: 0.2859 - val_acc: 0.9701\n",
      "Epoch 173/200\n",
      "779/779 [==============================] - 0s 62us/step - loss: 0.0344 - acc: 0.9910 - val_loss: 0.2940 - val_acc: 0.9701\n",
      "Epoch 174/200\n",
      "779/779 [==============================] - 0s 66us/step - loss: 0.0451 - acc: 0.9897 - val_loss: 0.2525 - val_acc: 0.9760\n",
      "Epoch 175/200\n",
      "779/779 [==============================] - 0s 60us/step - loss: 0.0043 - acc: 0.9974 - val_loss: 0.3154 - val_acc: 0.9760\n",
      "Epoch 176/200\n",
      "779/779 [==============================] - 0s 61us/step - loss: 0.0527 - acc: 0.9923 - val_loss: 0.3075 - val_acc: 0.9701\n",
      "Epoch 177/200\n",
      "779/779 [==============================] - 0s 59us/step - loss: 0.0078 - acc: 0.9987 - val_loss: 0.3284 - val_acc: 0.9641\n",
      "Epoch 178/200\n",
      "779/779 [==============================] - 0s 58us/step - loss: 0.0043 - acc: 0.9987 - val_loss: 0.2599 - val_acc: 0.9641\n",
      "Epoch 179/200\n",
      "779/779 [==============================] - 0s 57us/step - loss: 0.0299 - acc: 0.9936 - val_loss: 0.2484 - val_acc: 0.9701\n",
      "Epoch 180/200\n",
      "779/779 [==============================] - 0s 60us/step - loss: 0.0324 - acc: 0.9897 - val_loss: 0.4016 - val_acc: 0.9641\n",
      "Epoch 181/200\n",
      "779/779 [==============================] - 0s 65us/step - loss: 0.0271 - acc: 0.9910 - val_loss: 0.2991 - val_acc: 0.9701\n",
      "Epoch 182/200\n",
      "779/779 [==============================] - 0s 58us/step - loss: 0.0170 - acc: 0.9961 - val_loss: 0.2643 - val_acc: 0.9641\n",
      "Epoch 183/200\n",
      "779/779 [==============================] - 0s 58us/step - loss: 0.0021 - acc: 1.0000 - val_loss: 0.3210 - val_acc: 0.9641\n",
      "Epoch 184/200\n",
      "779/779 [==============================] - 0s 61us/step - loss: 0.0194 - acc: 0.9961 - val_loss: 0.1782 - val_acc: 0.9760\n",
      "Epoch 185/200\n",
      "779/779 [==============================] - 0s 59us/step - loss: 0.0128 - acc: 0.9949 - val_loss: 0.2569 - val_acc: 0.9701\n",
      "Epoch 186/200\n",
      "779/779 [==============================] - 0s 64us/step - loss: 0.0444 - acc: 0.9897 - val_loss: 0.2944 - val_acc: 0.9760\n",
      "Epoch 187/200\n",
      "779/779 [==============================] - 0s 59us/step - loss: 0.0103 - acc: 0.9987 - val_loss: 0.3128 - val_acc: 0.9701\n",
      "Epoch 188/200\n",
      "779/779 [==============================] - 0s 57us/step - loss: 0.0231 - acc: 0.9961 - val_loss: 0.3043 - val_acc: 0.9760\n",
      "Epoch 189/200\n",
      "779/779 [==============================] - 0s 58us/step - loss: 0.0230 - acc: 0.9923 - val_loss: 0.3464 - val_acc: 0.9701\n",
      "Epoch 190/200\n",
      "779/779 [==============================] - 0s 60us/step - loss: 0.0069 - acc: 0.9974 - val_loss: 0.3002 - val_acc: 0.9701\n",
      "Epoch 191/200\n",
      "779/779 [==============================] - 0s 60us/step - loss: 0.0060 - acc: 0.9974 - val_loss: 0.3487 - val_acc: 0.9701\n",
      "Epoch 192/200\n",
      "779/779 [==============================] - 0s 58us/step - loss: 0.0377 - acc: 0.9910 - val_loss: 0.3164 - val_acc: 0.9641\n",
      "Epoch 193/200\n",
      "779/779 [==============================] - 0s 58us/step - loss: 0.0373 - acc: 0.9923 - val_loss: 0.2745 - val_acc: 0.9641\n",
      "Epoch 194/200\n",
      "779/779 [==============================] - 0s 61us/step - loss: 0.0142 - acc: 0.9961 - val_loss: 0.2327 - val_acc: 0.9701\n",
      "Epoch 195/200\n",
      "779/779 [==============================] - 0s 59us/step - loss: 0.0180 - acc: 0.9949 - val_loss: 0.3054 - val_acc: 0.9701\n",
      "Epoch 196/200\n",
      "779/779 [==============================] - 0s 59us/step - loss: 0.0399 - acc: 0.9910 - val_loss: 0.2434 - val_acc: 0.9760\n",
      "Epoch 197/200\n",
      "779/779 [==============================] - 0s 60us/step - loss: 0.0195 - acc: 0.9936 - val_loss: 0.3681 - val_acc: 0.9581\n",
      "Epoch 198/200\n",
      "779/779 [==============================] - 0s 58us/step - loss: 0.0397 - acc: 0.9859 - val_loss: 0.3823 - val_acc: 0.9701\n",
      "Epoch 199/200\n",
      "779/779 [==============================] - 0s 58us/step - loss: 0.0220 - acc: 0.9961 - val_loss: 0.2666 - val_acc: 0.9760\n",
      "Epoch 200/200\n",
      "779/779 [==============================] - 0s 59us/step - loss: 0.0124 - acc: 0.9961 - val_loss: 0.2555 - val_acc: 0.9760\n"
     ]
    }
   ],
   "source": [
    "results_val = model.fit(train_x, train_y, validation_data=(val_x,val_y), epochs=200, batch_size=64) # starts training with validating"
   ]
  },
  {
   "cell_type": "code",
   "execution_count": 27,
   "metadata": {},
   "outputs": [
    {
     "name": "stdout",
     "output_type": "stream",
     "text": [
      "_________________________________________________________________\n",
      "Layer (type)                 Output Shape              Param #   \n",
      "=================================================================\n",
      "dense_1 (Dense)              (None, 128)               25088     \n",
      "_________________________________________________________________\n",
      "dropout_1 (Dropout)          (None, 128)               0         \n",
      "_________________________________________________________________\n",
      "dense_2 (Dense)              (None, 64)                8256      \n",
      "_________________________________________________________________\n",
      "dropout_2 (Dropout)          (None, 64)                0         \n",
      "_________________________________________________________________\n",
      "dense_3 (Dense)              (None, 32)                2080      \n",
      "_________________________________________________________________\n",
      "dropout_3 (Dropout)          (None, 32)                0         \n",
      "_________________________________________________________________\n",
      "dense_4 (Dense)              (None, 3)                 99        \n",
      "=================================================================\n",
      "Total params: 35,523\n",
      "Trainable params: 35,523\n",
      "Non-trainable params: 0\n",
      "_________________________________________________________________\n",
      "None\n"
     ]
    }
   ],
   "source": [
    "print(model.summary())"
   ]
  },
  {
   "cell_type": "code",
   "execution_count": 28,
   "metadata": {
    "_uuid": "7bfddce4f6d805b5111bd6aa4f353b250df3fb9a"
   },
   "outputs": [
    {
     "data": {
      "text/plain": [
       "<matplotlib.legend.Legend at 0x7fb09022d7f0>"
      ]
     },
     "execution_count": 28,
     "metadata": {},
     "output_type": "execute_result"
    },
    {
     "data": {
      "image/png": "[encoded data removed]",
      "text/plain": [
       "<Figure size 432x288 with 1 Axes>"
      ]
     },
     "metadata": {
      "needs_background": "light"
     },
     "output_type": "display_data"
    }
   ],
   "source": [
    "x_axis = np.arange(200)\n",
    "plt.plot(x_axis, results_val.history['loss'], x_axis, results_val.history['val_loss'])\n",
    "plt.gca().legend(('Loss','Validation Loss'))"
   ]
  },
  {
   "cell_type": "code",
   "execution_count": 29,
   "metadata": {
    "_uuid": "39d111089ebe4e08969fc93bb62bf4e3d75c6c6d"
   },
   "outputs": [
    {
     "data": {
      "text/plain": [
       "<matplotlib.legend.Legend at 0x7fb0d3b295f8>"
      ]
     },
     "execution_count": 29,
     "metadata": {},
     "output_type": "execute_result"
    },
    {
     "data": {
      "image/png": "[encoded data removed]",
      "text/plain": [
       "<Figure size 432x288 with 1 Axes>"
      ]
     },
     "metadata": {
      "needs_background": "light"
     },
     "output_type": "display_data"
    }
   ],
   "source": [
    "x_axis = np.arange(200)\n",
    "plt.plot(x_axis, results_val.history['acc'], x_axis, results_val.history['val_acc'])\n",
    "plt.gca().legend(('Accuracy','Validation Accuracy'))"
   ]
  },
  {
   "cell_type": "code",
   "execution_count": 30,
   "metadata": {
    "_uuid": "df05f07407d715eea4fe50bff40b3afb85c82b57"
   },
   "outputs": [],
   "source": [
    "test_loss, test_acc = model.evaluate(test_x, test_y, verbose=0)\n",
    "train_loss, train_acc = model.evaluate(train_x, train_y, verbose=0)"
   ]
  },
  {
   "cell_type": "code",
   "execution_count": 31,
   "metadata": {
    "_uuid": "d8ecf939aa7c0a17023de2cb95285cd21443a56d"
   },
   "outputs": [
    {
     "name": "stdout",
     "output_type": "stream",
     "text": [
      "Test accuracy: 0.9820359281437125\n",
      "Train accuracy: 1.0\n"
     ]
    }
   ],
   "source": [
    "print('Test accuracy:', test_acc)\n",
    "print('Train accuracy:', train_acc)"
   ]
  },
  {
   "cell_type": "markdown",
   "metadata": {},
   "source": [
    "# Make Predictions"
   ]
  },
  {
   "cell_type": "code",
   "execution_count": 32,
   "metadata": {
    "_uuid": "8645845a20ccccde5e969862ac2c3da86d1df6eb"
   },
   "outputs": [],
   "source": [
    "predictions = model.predict(test_x)"
   ]
  },
  {
   "cell_type": "code",
   "execution_count": 33,
   "metadata": {},
   "outputs": [],
   "source": [
    "rounded_predictions = model.predict_classes(test_x)"
   ]
  },
  {
   "cell_type": "code",
   "execution_count": 34,
   "metadata": {},
   "outputs": [
    {
     "data": {
      "text/plain": [
       "1"
      ]
     },
     "execution_count": 34,
     "metadata": {},
     "output_type": "execute_result"
    }
   ],
   "source": [
    "rounded_predictions[0]"
   ]
  },
  {
   "cell_type": "code",
   "execution_count": 35,
   "metadata": {
    "_uuid": "2f3d4ba28a4ed1191c1856a734d411ad96154c0f"
   },
   "outputs": [
    {
     "data": {
      "text/plain": [
       "array([5.3024794e-23, 1.0000000e+00, 3.5245566e-14], dtype=float32)"
      ]
     },
     "execution_count": 35,
     "metadata": {},
     "output_type": "execute_result"
    }
   ],
   "source": [
    "predictions[1]"
   ]
  },
  {
   "cell_type": "code",
   "execution_count": 36,
   "metadata": {
    "_uuid": "f10cf7709455bcf89940a102686a4c5d52ac8c39"
   },
   "outputs": [
    {
     "data": {
      "text/plain": [
       "1"
      ]
     },
     "execution_count": 36,
     "metadata": {},
     "output_type": "execute_result"
    }
   ],
   "source": [
    "np.argmax(predictions[1])"
   ]
  },
  {
   "cell_type": "code",
   "execution_count": 37,
   "metadata": {
    "_uuid": "be803fc9deaacb7713906f2d4e5cdf7acd048f1a"
   },
   "outputs": [
    {
     "data": {
      "text/plain": [
       "1"
      ]
     },
     "execution_count": 37,
     "metadata": {},
     "output_type": "execute_result"
    }
   ],
   "source": [
    "np.argmax(test_y[0])"
   ]
  },
  {
   "cell_type": "code",
   "execution_count": 38,
   "metadata": {},
   "outputs": [
    {
     "name": "stdout",
     "output_type": "stream",
     "text": [
      "164\n"
     ]
    }
   ],
   "source": [
    "counter = 0\n",
    "for i in range(len(test_y)):\n",
    "    if (np.argmax(predictions[i]) == np.argmax(test_y[i])):\n",
    "        counter = counter + 1\n",
    "print(counter)"
   ]
  },
  {
   "cell_type": "code",
   "execution_count": 39,
   "metadata": {},
   "outputs": [
    {
     "name": "stdout",
     "output_type": "stream",
     "text": [
      "92\n"
     ]
    }
   ],
   "source": [
    "snareCounter = 0\n",
    "for i in range(len(df_test)):\n",
    "    if (df_test['Label'][i] == 'Snare'):\n",
    "        snareCounter = snareCounter + 1\n",
    "print(snareCounter)"
   ]
  },
  {
   "cell_type": "markdown",
   "metadata": {},
   "source": [
    "# Creating a table"
   ]
  },
  {
   "cell_type": "code",
   "execution_count": 40,
   "metadata": {},
   "outputs": [
    {
     "data": {
      "text/plain": [
       "['Conga', 'Snare', 'Kick']"
      ]
     },
     "execution_count": 40,
     "metadata": {},
     "output_type": "execute_result"
    }
   ],
   "source": [
    "names = []\n",
    "names = os.listdir(dataset)\n",
    "names"
   ]
  },
  {
   "cell_type": "code",
   "execution_count": 41,
   "metadata": {},
   "outputs": [
    {
     "data": {
      "text/plain": [
       "array([0., 0., 1.], dtype=float32)"
      ]
     },
     "execution_count": 41,
     "metadata": {},
     "output_type": "execute_result"
    }
   ],
   "source": [
    "test_y[9]"
   ]
  },
  {
   "cell_type": "code",
   "execution_count": 42,
   "metadata": {},
   "outputs": [
    {
     "name": "stdout",
     "output_type": "stream",
     "text": [
      "14\n",
      "Conga :  12\n",
      "92\n",
      "Snare :  92\n",
      "61\n",
      "Kick :  60\n"
     ]
    }
   ],
   "source": [
    "#notetoself make this dynamic\n",
    "namescounter = []\n",
    "namesperc = []\n",
    "namesmatch = []\n",
    "for i in range(len(names)):\n",
    "    namescounter.append(i)\n",
    "    namesperc.append(i)\n",
    "    namesmatch.append(i)\n",
    "    namescounter[i]= 0\n",
    "    namesperc[i] = 0\n",
    "    namesmatch[i] = 0\n",
    "\n",
    "for i in range(len(test_y)):\n",
    "    if np.all(test_y[i] == [1.0, 0.0, 0.0]):\n",
    "        namescounter[0] += 1\n",
    "        if(np.argmax(predictions[i]) == np.argmax(test_y[i])):\n",
    "            namesmatch[0] += 1\n",
    "    if np.all(test_y[i] == [0.0, 1.0, 0.0]):\n",
    "        namescounter[1] += 1\n",
    "        if(np.argmax(predictions[i]) == np.argmax(test_y[i])):\n",
    "            namesmatch[1] += 1\n",
    "    if np.all(test_y[i] == [0.0, 0.0, 1.0]):\n",
    "        namescounter[2] += 1\n",
    "        if(np.argmax(predictions[i]) == np.argmax(test_y[i])):\n",
    "            namesmatch[2] += 1\n",
    "\n",
    "for i in range(len(namesmatch)):\n",
    "    print(namescounter[i])\n",
    "    print(names[i],': ', namesmatch[i])"
   ]
  },
  {
   "cell_type": "code",
   "execution_count": 43,
   "metadata": {},
   "outputs": [
    {
     "name": "stdout",
     "output_type": "stream",
     "text": [
      "0.86\n",
      "1.0\n",
      "0.98\n"
     ]
    }
   ],
   "source": [
    "for i in range(len(names)):\n",
    "    namesperc[i] = round(namesmatch[i]/namescounter[i], 2)\n",
    "    print(namesperc[i])"
   ]
  },
  {
   "cell_type": "code",
   "execution_count": 44,
   "metadata": {},
   "outputs": [
    {
     "name": "stdout",
     "output_type": "stream",
     "text": [
      "['Conga', 14, 12, 0.86]\n",
      "['Snare', 92, 92, 1.0]\n",
      "['Kick', 61, 60, 0.98]\n"
     ]
    }
   ],
   "source": [
    "data = []\n",
    "for i in range(len(names)):\n",
    "    data.append([names[i], namescounter[i], namesmatch[i], namesperc[i]])\n",
    "    print(data[i])\n"
   ]
  },
  {
   "cell_type": "code",
   "execution_count": 45,
   "metadata": {},
   "outputs": [
    {
     "data": {
      "image/png": "[encoded data removed]",
      "text/plain": [
       "<Figure size 432x288 with 1 Axes>"
      ]
     },
     "metadata": {
      "needs_background": "light"
     },
     "output_type": "display_data"
    }
   ],
   "source": [
    "table = plt.table(cellText=data, colLabels = ['Class','Count','Correct Prediction','Percentage'], loc='center', \n",
    "                  cellLoc='center', colColours=['#FFFFFF', '#F3CC32', '#2769BD', '#DC3735'])\n",
    "table.auto_set_font_size(False)\n",
    "\n",
    "plt.axis('off')\n",
    "plt.show()\n"
   ]
  },
  {
   "cell_type": "markdown",
   "metadata": {},
   "source": [
    "# Confusion Matrix"
   ]
  },
  {
   "cell_type": "code",
   "execution_count": 46,
   "metadata": {},
   "outputs": [],
   "source": [
    "%matplotlib inline\n",
    "from sklearn.metrics import confusion_matrix\n",
    "import itertools"
   ]
  },
  {
   "cell_type": "code",
   "execution_count": 47,
   "metadata": {},
   "outputs": [
    {
     "data": {
      "text/plain": [
       "['Conga', 'Snare', 'Kick']"
      ]
     },
     "execution_count": 47,
     "metadata": {},
     "output_type": "execute_result"
    }
   ],
   "source": [
    "name = [folder.name for folder in dataset.glob('*')]\n",
    "name"
   ]
  },
  {
   "cell_type": "code",
   "execution_count": 48,
   "metadata": {},
   "outputs": [
    {
     "name": "stdout",
     "output_type": "stream",
     "text": [
      "1\n"
     ]
    }
   ],
   "source": [
    "rounded_labels = []\n",
    "for i in range(len(test_y)):\n",
    "    rounded_labels.append(np.argmax(test_y[i]))\n",
    "print(rounded_labels[0])"
   ]
  },
  {
   "cell_type": "code",
   "execution_count": 49,
   "metadata": {},
   "outputs": [],
   "source": [
    "conmatrix = confusion_matrix(rounded_labels, rounded_predictions)"
   ]
  },
  {
   "cell_type": "code",
   "execution_count": 50,
   "metadata": {},
   "outputs": [
    {
     "data": {
      "text/plain": [
       "Text(0.5, 0, 'Predicted Label')"
      ]
     },
     "execution_count": 50,
     "metadata": {},
     "output_type": "execute_result"
    },
    {
     "data": {
      "image/png": "[encoded data removed]",
      "text/plain": [
       "<Figure size 432x288 with 1 Axes>"
      ]
     },
     "metadata": {
      "needs_background": "light"
     },
     "output_type": "display_data"
    }
   ],
   "source": [
    "def plot_confusion_matrix(conmatrix, classes,\n",
    "                          normalize=False,\n",
    "                          title='Confusion Matrix',\n",
    "                          cmap=plt.cm.Blues):\n",
    "\n",
    "    \n",
    "    plt.imshow(conmatrix, interpolation = 'nearest', cmap = cmap)\n",
    "    plt.title(title)\n",
    "    plt.colorbar()\n",
    "    tick_marks = np.arange(len(classes))\n",
    "    plt.xticks(tick_marks, classes, rotation = 45)\n",
    "    plt.yticks(tick_marks, classes)\n",
    "    \n",
    "    if normalize:\n",
    "        conmatrix = conmatrix.astype('float') / conmatrix.sum(axis=1)[:, np.newaxis]\n",
    "        print(\"Normalized confusion matrix\")\n",
    "    else:\n",
    "        print('Confusion matrix, without normalization')\n",
    "\n",
    "    print(conmatrix)\n",
    "\n",
    "\n",
    "    thresh = conmatrix.max() / 2.\n",
    "    for i in range(conmatrix.shape[0]):\n",
    "        for j in range(conmatrix.shape[1]):\n",
    "            plt.text(j, i, conmatrix[i, j],\n",
    "                    \n",
    "                     horizontalalignment = \"center\",\n",
    "                    color=\"white\" if conmatrix[i, j] > thresh else \"black\")\n",
    "\n",
    "plt.tight_layout()\n",
    "plt.ylabel('Actual Label')\n",
    "plt.xlabel('Predicted Label')"
   ]
  },
  {
   "cell_type": "code",
   "execution_count": 51,
   "metadata": {},
   "outputs": [
    {
     "name": "stdout",
     "output_type": "stream",
     "text": [
      "Confusion matrix, without normalization\n",
      "[[12  0  2]\n",
      " [ 0 92  0]\n",
      " [ 0  1 60]]\n"
     ]
    },
    {
     "data": {
      "image/png": "[encoded data removed]",
      "text/plain": [
       "<Figure size 432x288 with 2 Axes>"
      ]
     },
     "metadata": {
      "needs_background": "light"
     },
     "output_type": "display_data"
    }
   ],
   "source": [
    "conmatrix_labels = [nam for nam in name]\n",
    "plot_confusion_matrix(conmatrix, conmatrix_labels, title='Confusion matrix')"
   ]
  },
  {
   "cell_type": "markdown",
   "metadata": {},
   "source": [
    "# Saving the model"
   ]
  },
  {
   "cell_type": "code",
   "execution_count": 52,
   "metadata": {
    "_uuid": "77f75546bd839e4dec13eacb1bf0c40529142bd4"
   },
   "outputs": [
    {
     "name": "stdout",
     "output_type": "stream",
     "text": [
      "Saved model to disk\n"
     ]
    }
   ],
   "source": [
    "from keras.models import model_from_json\n",
    "\n",
    "model_json = model.to_json()\n",
    "with open(\"model.json\", \"w\") as json_file:\n",
    "    json_file.write(model_json)\n",
    "# serialize weights to HDF5\n",
    "model.save_weights(\"model.h5\")\n",
    "print(\"Saved model to disk\")"
   ]
  },
  {
   "cell_type": "code",
   "execution_count": 53,
   "metadata": {},
   "outputs": [
    {
     "name": "stdout",
     "output_type": "stream",
     "text": [
      "Loaded model from disk\n"
     ]
    }
   ],
   "source": [
    "# load json and create model\n",
    "json_file = open('model.json', 'r')\n",
    "loaded_model_json = json_file.read()\n",
    "json_file.close()\n",
    "loaded_model = model_from_json(loaded_model_json)\n",
    "# load weights into new model\n",
    "loaded_model.load_weights(\"model.h5\")\n",
    "print(\"Loaded model from disk\")"
   ]
  }
 ],
 "metadata": {
  "accelerator": "GPU",
  "colab": {
   "collapsed_sections": [],
   "name": "Untitled0.ipynb",
   "provenance": [],
   "version": "0.3.2"
  },
  "kernelspec": {
   "display_name": "Python 3",
   "language": "python",
   "name": "python3"
  },
  "language_info": {
   "codemirror_mode": {
    "name": "ipython",
    "version": 3
   },
   "file_extension": ".py",
   "mimetype": "text/x-python",
   "name": "python",
   "nbconvert_exporter": "python",
   "pygments_lexer": "ipython3",
   "version": "3.6.6"
  }
 },
 "nbformat": 4,
 "nbformat_minor": 1
}
