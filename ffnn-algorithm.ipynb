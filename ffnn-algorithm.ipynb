{
 "cells": [
  {
   "cell_type": "code",
   "execution_count": 1,
   "metadata": {
    "_uuid": "b3d191e52b7a1e5633ead23de51b2338a6fd1a7e"
   },
   "outputs": [],
   "source": [
    "import os\n",
    "import numpy as np\n",
    "import pandas as pd\n",
    "import matplotlib.pyplot as plt\n",
    "import librosa\n",
    "\n",
    "from pathlib import Path"
   ]
  },
  {
   "cell_type": "code",
   "execution_count": 2,
   "metadata": {
    "_uuid": "e099477cd74a5016f91fae49539dcb707ea90ff9"
   },
   "outputs": [],
   "source": [
    "dataset = Path('../input/three sounds/Three Sounds')"
   ]
  },
  {
   "cell_type": "code",
   "execution_count": 3,
   "metadata": {
    "_uuid": "d30c822c0559ff89cd839be084265bdc6ba82476"
   },
   "outputs": [],
   "source": [
    "labels = [folder.name for folder in dataset.glob('*')]\n",
    "frame_files, frame_labels = [], []\n",
    "for folder in dataset.glob('*'):\n",
    "    files = [path for path in folder.glob('*')]\n",
    "    frame_files.extend(files)\n",
    "    frame_labels.extend([folder.name] * len(files))\n",
    "\n",
    "frame = [frame_files, frame_labels]"
   ]
  },
  {
   "cell_type": "code",
   "execution_count": 4,
   "metadata": {},
   "outputs": [
    {
     "data": {
      "text/plain": [
       "['Kick', 'Conga', 'Snare']"
      ]
     },
     "execution_count": 4,
     "metadata": {},
     "output_type": "execute_result"
    }
   ],
   "source": [
    "labels"
   ]
  },
  {
   "cell_type": "code",
   "execution_count": 5,
   "metadata": {
    "_uuid": "d751a52a09a49c3e2e3790ce7340d79c06996bf4"
   },
   "outputs": [],
   "source": [
    "# TODO: Figure out a better way to create this Dataframe\n",
    "df = pd.DataFrame()\n",
    "df['Path'] = frame_files\n",
    "df['Label'] = frame_labels"
   ]
  },
  {
   "cell_type": "markdown",
   "metadata": {
    "_uuid": "ec112abf4e3d990ee44f38f4df007cedb4e6df3b"
   },
   "source": [
    "# Feature Extraction"
   ]
  },
  {
   "cell_type": "code",
   "execution_count": 6,
   "metadata": {
    "_uuid": "18419eead7f99e63de4b656f53d8e83e33167d60"
   },
   "outputs": [
    {
     "data": {
      "text/html": [
       "<div>\n",
       "<style scoped>\n",
       "    .dataframe tbody tr th:only-of-type {\n",
       "        vertical-align: middle;\n",
       "    }\n",
       "\n",
       "    .dataframe tbody tr th {\n",
       "        vertical-align: top;\n",
       "    }\n",
       "\n",
       "    .dataframe thead th {\n",
       "        text-align: right;\n",
       "    }\n",
       "</style>\n",
       "<table border=\"1\" class=\"dataframe\">\n",
       "  <thead>\n",
       "    <tr style=\"text-align: right;\">\n",
       "      <th></th>\n",
       "      <th>Path</th>\n",
       "      <th>Label</th>\n",
       "    </tr>\n",
       "  </thead>\n",
       "  <tbody>\n",
       "    <tr>\n",
       "      <th>0</th>\n",
       "      <td>../input/three sounds/Three Sounds/Kick/TR606K...</td>\n",
       "      <td>Kick</td>\n",
       "    </tr>\n",
       "    <tr>\n",
       "      <th>1</th>\n",
       "      <td>../input/three sounds/Three Sounds/Kick/MaxV -...</td>\n",
       "      <td>Kick</td>\n",
       "    </tr>\n",
       "    <tr>\n",
       "      <th>2</th>\n",
       "      <td>../input/three sounds/Three Sounds/Kick/MaxV -...</td>\n",
       "      <td>Kick</td>\n",
       "    </tr>\n",
       "    <tr>\n",
       "      <th>3</th>\n",
       "      <td>../input/three sounds/Three Sounds/Kick/DR-660...</td>\n",
       "      <td>Kick</td>\n",
       "    </tr>\n",
       "    <tr>\n",
       "      <th>4</th>\n",
       "      <td>../input/three sounds/Three Sounds/Kick/Drumul...</td>\n",
       "      <td>Kick</td>\n",
       "    </tr>\n",
       "  </tbody>\n",
       "</table>\n",
       "</div>"
      ],
      "text/plain": [
       "                                                Path Label\n",
       "0  ../input/three sounds/Three Sounds/Kick/TR606K...  Kick\n",
       "1  ../input/three sounds/Three Sounds/Kick/MaxV -...  Kick\n",
       "2  ../input/three sounds/Three Sounds/Kick/MaxV -...  Kick\n",
       "3  ../input/three sounds/Three Sounds/Kick/DR-660...  Kick\n",
       "4  ../input/three sounds/Three Sounds/Kick/Drumul...  Kick"
      ]
     },
     "execution_count": 6,
     "metadata": {},
     "output_type": "execute_result"
    }
   ],
   "source": [
    "df.head()"
   ]
  },
  {
   "cell_type": "code",
   "execution_count": 7,
   "metadata": {
    "_kg_hide-input": false,
    "_uuid": "675244d0e639600b77429686219861f9f4c7a277"
   },
   "outputs": [
    {
     "name": "stdout",
     "output_type": "stream",
     "text": [
      "CPU times: user 0 ns, sys: 0 ns, total: 0 ns\n",
      "Wall time: 12.2 µs\n"
     ]
    }
   ],
   "source": [
    "%%time\n",
    "def feats_extraction(path):\n",
    "    raw_signal, sample_rate = librosa.load(path)\n",
    "    mfccs = librosa.feature.mfcc(raw_signal, sample_rate) # 20 features (default)\n",
    "    chroma = librosa.feature.chroma_stft(raw_signal, sample_rate) # 12 features\n",
    "    stft = np.abs(librosa.stft(raw_signal))\n",
    "    contrast = librosa.feature.spectral_contrast(S=stft, sr=sample_rate) # 7 features\n",
    "    return np.concatenate([mfccs, chroma, contrast]) # Total of 39 features per sample\n",
    "\n"
   ]
  },
  {
   "cell_type": "code",
   "execution_count": 8,
   "metadata": {},
   "outputs": [
    {
     "name": "stderr",
     "output_type": "stream",
     "text": [
      "/opt/conda/lib/python3.6/site-packages/librosa/core/pitch.py:146: UserWarning: Trying to estimate tuning from empty frequency set.\n",
      "  warnings.warn('Trying to estimate tuning from empty frequency set.')\n"
     ]
    }
   ],
   "source": [
    "df['feats_raw'] = df.Path.apply(feats_extraction)"
   ]
  },
  {
   "cell_type": "markdown",
   "metadata": {
    "_uuid": "152da8bacffa3e7c0e1230affee7dc1216fbfb15"
   },
   "source": [
    "# Features per File\n",
    "Here we see that extracted values from each data sample has varying length. That is because in each sound, the features are extracted per sample rate.\n"
   ]
  },
  {
   "cell_type": "code",
   "execution_count": 9,
   "metadata": {
    "_uuid": "744ff9d4d6391014e82e73eb4bfb56b3a2617f38"
   },
   "outputs": [
    {
     "data": {
      "text/plain": [
       "0    (39, 11)\n",
       "1     (39, 8)\n",
       "2    (39, 18)\n",
       "3    (39, 12)\n",
       "4    (39, 13)\n",
       "Name: feats_raw, dtype: object"
      ]
     },
     "execution_count": 9,
     "metadata": {},
     "output_type": "execute_result"
    }
   ],
   "source": [
    "df.feats_raw.apply(np.shape).head()"
   ]
  },
  {
   "cell_type": "code",
   "execution_count": 10,
   "metadata": {
    "_uuid": "1f8c5e2f3b0f924624b2bb72a9944668e3bc43a9"
   },
   "outputs": [],
   "source": [
    "def pre_process(feature_matrix):\n",
    "    feats = [\n",
    "        feature_matrix.mean(axis=1),\n",
    "        feature_matrix.std(axis=1),\n",
    "        feature_matrix.min(axis=1),\n",
    "        feature_matrix.max(axis=1),\n",
    "        np.median(feature_matrix, axis=1)\n",
    "    ]\n",
    "    return np.stack(feats).flatten().astype(np.float32)"
   ]
  },
  {
   "cell_type": "code",
   "execution_count": 11,
   "metadata": {
    "_uuid": "06eabe8932f9923ab1c7ab617257344c418ac4cc"
   },
   "outputs": [],
   "source": [
    "df['feats'] = df.feats_raw.apply(pre_process)"
   ]
  },
  {
   "cell_type": "markdown",
   "metadata": {
    "_uuid": "4df6b5a43e5a9cac12aedcf3618634b1406d0445"
   },
   "source": [
    "# Total Features per row"
   ]
  },
  {
   "cell_type": "code",
   "execution_count": 12,
   "metadata": {},
   "outputs": [
    {
     "data": {
      "text/html": [
       "<div>\n",
       "<style scoped>\n",
       "    .dataframe tbody tr th:only-of-type {\n",
       "        vertical-align: middle;\n",
       "    }\n",
       "\n",
       "    .dataframe tbody tr th {\n",
       "        vertical-align: top;\n",
       "    }\n",
       "\n",
       "    .dataframe thead th {\n",
       "        text-align: right;\n",
       "    }\n",
       "</style>\n",
       "<table border=\"1\" class=\"dataframe\">\n",
       "  <thead>\n",
       "    <tr style=\"text-align: right;\">\n",
       "      <th></th>\n",
       "      <th>Path</th>\n",
       "      <th>Label</th>\n",
       "      <th>feats_raw</th>\n",
       "      <th>feats</th>\n",
       "    </tr>\n",
       "  </thead>\n",
       "  <tbody>\n",
       "    <tr>\n",
       "      <th>0</th>\n",
       "      <td>../input/three sounds/Three Sounds/Kick/TR606K...</td>\n",
       "      <td>Kick</td>\n",
       "      <td>[[-149.80477905273438, -202.72462463378906, -4...</td>\n",
       "      <td>[-419.2668, 62.67625, 21.77674, 24.39152, 18.3...</td>\n",
       "    </tr>\n",
       "    <tr>\n",
       "      <th>1</th>\n",
       "      <td>../input/three sounds/Three Sounds/Kick/MaxV -...</td>\n",
       "      <td>Kick</td>\n",
       "      <td>[[-59.03467559814453, -84.56759643554688, -187...</td>\n",
       "      <td>[-302.0313, 106.42767, 8.049817, 46.55942, 19....</td>\n",
       "    </tr>\n",
       "  </tbody>\n",
       "</table>\n",
       "</div>"
      ],
      "text/plain": [
       "                                                Path                        ...                                                                      feats\n",
       "0  ../input/three sounds/Three Sounds/Kick/TR606K...                        ...                          [-419.2668, 62.67625, 21.77674, 24.39152, 18.3...\n",
       "1  ../input/three sounds/Three Sounds/Kick/MaxV -...                        ...                          [-302.0313, 106.42767, 8.049817, 46.55942, 19....\n",
       "\n",
       "[2 rows x 4 columns]"
      ]
     },
     "execution_count": 12,
     "metadata": {},
     "output_type": "execute_result"
    }
   ],
   "source": [
    "df.head(2)"
   ]
  },
  {
   "cell_type": "code",
   "execution_count": 13,
   "metadata": {
    "_uuid": "abdea478b9c552aafad64b9edc647cf955869804"
   },
   "outputs": [
    {
     "data": {
      "text/plain": [
       "(195,)"
      ]
     },
     "execution_count": 13,
     "metadata": {},
     "output_type": "execute_result"
    }
   ],
   "source": [
    "df.feats[0].shape"
   ]
  },
  {
   "cell_type": "markdown",
   "metadata": {
    "_uuid": "c5db601a9a10c045c20df95657f9e256c6f29aa5"
   },
   "source": [
    "# Encoding Target"
   ]
  },
  {
   "cell_type": "code",
   "execution_count": 14,
   "metadata": {
    "_uuid": "365280ac6c81a2e690031a9a39e26e14a42f5aa8"
   },
   "outputs": [],
   "source": [
    "def one_hot_encode(df, labels):\n",
    "    encoded_labels = [np.zeros(len(labels), dtype='float32') for i in range(len(df))]\n",
    "    for idx, val in enumerate(df['Label']):\n",
    "        encoded_labels[idx][labels.index(val)] = 1\n",
    "    return encoded_labels"
   ]
  },
  {
   "cell_type": "code",
   "execution_count": 15,
   "metadata": {
    "_uuid": "1921940a792c6bf54c353703fb902047e627fe80"
   },
   "outputs": [],
   "source": [
    "df['Target'] = one_hot_encode(df, labels)"
   ]
  },
  {
   "cell_type": "code",
   "execution_count": 16,
   "metadata": {
    "_uuid": "f3e43ac86ca9ca9f76edf4611079315e9e0b2917"
   },
   "outputs": [
    {
     "data": {
      "text/html": [
       "<div>\n",
       "<style scoped>\n",
       "    .dataframe tbody tr th:only-of-type {\n",
       "        vertical-align: middle;\n",
       "    }\n",
       "\n",
       "    .dataframe tbody tr th {\n",
       "        vertical-align: top;\n",
       "    }\n",
       "\n",
       "    .dataframe thead th {\n",
       "        text-align: right;\n",
       "    }\n",
       "</style>\n",
       "<table border=\"1\" class=\"dataframe\">\n",
       "  <thead>\n",
       "    <tr style=\"text-align: right;\">\n",
       "      <th></th>\n",
       "      <th>Path</th>\n",
       "      <th>Label</th>\n",
       "      <th>feats_raw</th>\n",
       "      <th>feats</th>\n",
       "      <th>Target</th>\n",
       "    </tr>\n",
       "  </thead>\n",
       "  <tbody>\n",
       "    <tr>\n",
       "      <th>0</th>\n",
       "      <td>../input/three sounds/Three Sounds/Kick/TR606K...</td>\n",
       "      <td>Kick</td>\n",
       "      <td>[[-149.80477905273438, -202.72462463378906, -4...</td>\n",
       "      <td>[-419.2668, 62.67625, 21.77674, 24.39152, 18.3...</td>\n",
       "      <td>[1.0, 0.0, 0.0]</td>\n",
       "    </tr>\n",
       "    <tr>\n",
       "      <th>1</th>\n",
       "      <td>../input/three sounds/Three Sounds/Kick/MaxV -...</td>\n",
       "      <td>Kick</td>\n",
       "      <td>[[-59.03467559814453, -84.56759643554688, -187...</td>\n",
       "      <td>[-302.0313, 106.42767, 8.049817, 46.55942, 19....</td>\n",
       "      <td>[1.0, 0.0, 0.0]</td>\n",
       "    </tr>\n",
       "    <tr>\n",
       "      <th>2</th>\n",
       "      <td>../input/three sounds/Three Sounds/Kick/MaxV -...</td>\n",
       "      <td>Kick</td>\n",
       "      <td>[[49.56393814086914, 2.6893362998962402, -139....</td>\n",
       "      <td>[-328.59686, 77.29045, 29.493013, 51.969738, 2...</td>\n",
       "      <td>[1.0, 0.0, 0.0]</td>\n",
       "    </tr>\n",
       "    <tr>\n",
       "      <th>3</th>\n",
       "      <td>../input/three sounds/Three Sounds/Kick/DR-660...</td>\n",
       "      <td>Kick</td>\n",
       "      <td>[[50.63007354736328, 26.010326385498047, -25.5...</td>\n",
       "      <td>[-105.26844, 57.47148, -10.931993, 44.720562, ...</td>\n",
       "      <td>[1.0, 0.0, 0.0]</td>\n",
       "    </tr>\n",
       "    <tr>\n",
       "      <th>4</th>\n",
       "      <td>../input/three sounds/Three Sounds/Kick/Drumul...</td>\n",
       "      <td>Kick</td>\n",
       "      <td>[[-44.33176803588867, -24.78890609741211, -40....</td>\n",
       "      <td>[-187.54459, 140.32117, -10.363575, 33.385624,...</td>\n",
       "      <td>[1.0, 0.0, 0.0]</td>\n",
       "    </tr>\n",
       "  </tbody>\n",
       "</table>\n",
       "</div>"
      ],
      "text/plain": [
       "                                                Path       ...                  Target\n",
       "0  ../input/three sounds/Three Sounds/Kick/TR606K...       ...         [1.0, 0.0, 0.0]\n",
       "1  ../input/three sounds/Three Sounds/Kick/MaxV -...       ...         [1.0, 0.0, 0.0]\n",
       "2  ../input/three sounds/Three Sounds/Kick/MaxV -...       ...         [1.0, 0.0, 0.0]\n",
       "3  ../input/three sounds/Three Sounds/Kick/DR-660...       ...         [1.0, 0.0, 0.0]\n",
       "4  ../input/three sounds/Three Sounds/Kick/Drumul...       ...         [1.0, 0.0, 0.0]\n",
       "\n",
       "[5 rows x 5 columns]"
      ]
     },
     "execution_count": 16,
     "metadata": {},
     "output_type": "execute_result"
    }
   ],
   "source": [
    "df.head()"
   ]
  },
  {
   "cell_type": "markdown",
   "metadata": {
    "_uuid": "99589666ddff17d6149bf8115c80cb033a1bfb51"
   },
   "source": [
    "# Splitting Dataset"
   ]
  },
  {
   "cell_type": "code",
   "execution_count": 17,
   "metadata": {
    "_uuid": "4173e825b56c798899bd77f24da7089e905bcb3b"
   },
   "outputs": [],
   "source": [
    "indexes = np.arange(len(df))\n",
    "np.random.seed(4) #to ensure values say in the same set during each run and not mix up with other parameters\n",
    "np.random.shuffle(indexes)\n",
    "\n",
    "val_pivot = int(0.7*len(df))\n",
    "test_pivot = int(0.85*len(df))\n",
    "\n",
    "# val_pivot = int(num1*len(df))\n",
    "# test_pivot = int(num2*len(df))\n",
    "\n",
    "train_indexes = indexes[0:val_pivot] # 70% of dataset\n",
    "val_indexes = indexes[val_pivot:test_pivot] # 15% of dataset\n",
    "test_intexes = indexes[test_pivot:] # 15% of dataset"
   ]
  },
  {
   "cell_type": "code",
   "execution_count": 18,
   "metadata": {
    "_uuid": "5d06ebcae878589a06003ac427e15a90aaf1982b"
   },
   "outputs": [],
   "source": [
    "df_train = df.iloc[train_indexes].reset_index(drop=True)\n",
    "df_val = df.iloc[val_indexes].reset_index(drop=True)\n",
    "df_test = df.iloc[test_intexes].reset_index(drop=True)"
   ]
  },
  {
   "cell_type": "code",
   "execution_count": 19,
   "metadata": {
    "_uuid": "ccea7d8e5f82369abd97cfe19d8f2679d09b45d1"
   },
   "outputs": [],
   "source": [
    "train_x, train_y = np.stack(df_train['feats']), np.stack(df_train['Target'])\n",
    "val_x, val_y = np.stack(df_val['feats']), np.stack(df_val['Target'])\n",
    "test_x, test_y = np.stack(df_test['feats']), np.stack(df_test['Target'])"
   ]
  },
  {
   "cell_type": "code",
   "execution_count": 20,
   "metadata": {
    "_uuid": "9ff6cd8f20485f5e68368ba7be134e2bcc1858fd"
   },
   "outputs": [
    {
     "data": {
      "text/html": [
       "<div>\n",
       "<style scoped>\n",
       "    .dataframe tbody tr th:only-of-type {\n",
       "        vertical-align: middle;\n",
       "    }\n",
       "\n",
       "    .dataframe tbody tr th {\n",
       "        vertical-align: top;\n",
       "    }\n",
       "\n",
       "    .dataframe thead th {\n",
       "        text-align: right;\n",
       "    }\n",
       "</style>\n",
       "<table border=\"1\" class=\"dataframe\">\n",
       "  <thead>\n",
       "    <tr style=\"text-align: right;\">\n",
       "      <th></th>\n",
       "      <th>Path</th>\n",
       "      <th>Label</th>\n",
       "      <th>feats_raw</th>\n",
       "      <th>feats</th>\n",
       "      <th>Target</th>\n",
       "    </tr>\n",
       "  </thead>\n",
       "  <tbody>\n",
       "    <tr>\n",
       "      <th>0</th>\n",
       "      <td>../input/three sounds/Three Sounds/Snare/MaxV ...</td>\n",
       "      <td>Snare</td>\n",
       "      <td>[[109.93230438232422, 101.74603271484375, 86.8...</td>\n",
       "      <td>[-2.4047806, 47.646156, -12.875927, 1.9139162,...</td>\n",
       "      <td>[0.0, 0.0, 1.0]</td>\n",
       "    </tr>\n",
       "    <tr>\n",
       "      <th>1</th>\n",
       "      <td>../input/three sounds/Three Sounds/Kick/TR-626...</td>\n",
       "      <td>Kick</td>\n",
       "      <td>[[-53.3907470703125, -102.17092895507812, -228...</td>\n",
       "      <td>[-172.262, 120.51091, 7.3547726, 53.280926, 2....</td>\n",
       "      <td>[1.0, 0.0, 0.0]</td>\n",
       "    </tr>\n",
       "    <tr>\n",
       "      <th>2</th>\n",
       "      <td>../input/three sounds/Three Sounds/Kick/HR16B ...</td>\n",
       "      <td>Kick</td>\n",
       "      <td>[[25.5660457611084, -8.15500545501709, -88.761...</td>\n",
       "      <td>[-269.85226, 78.6896, 4.6322193, 50.58018, 14....</td>\n",
       "      <td>[1.0, 0.0, 0.0]</td>\n",
       "    </tr>\n",
       "    <tr>\n",
       "      <th>3</th>\n",
       "      <td>../input/three sounds/Three Sounds/Snare/DR-66...</td>\n",
       "      <td>Snare</td>\n",
       "      <td>[[40.84175109863281, 31.21819305419922, 16.006...</td>\n",
       "      <td>[-219.99565, 27.312574, -21.283577, 2.2188904,...</td>\n",
       "      <td>[0.0, 0.0, 1.0]</td>\n",
       "    </tr>\n",
       "    <tr>\n",
       "      <th>4</th>\n",
       "      <td>../input/three sounds/Three Sounds/Snare/MaxV ...</td>\n",
       "      <td>Snare</td>\n",
       "      <td>[[-28.9948787689209, -61.06101608276367, -150....</td>\n",
       "      <td>[-600.759, -15.204106, 4.2838755, 3.3944335, 4...</td>\n",
       "      <td>[0.0, 0.0, 1.0]</td>\n",
       "    </tr>\n",
       "  </tbody>\n",
       "</table>\n",
       "</div>"
      ],
      "text/plain": [
       "                                                Path       ...                  Target\n",
       "0  ../input/three sounds/Three Sounds/Snare/MaxV ...       ...         [0.0, 0.0, 1.0]\n",
       "1  ../input/three sounds/Three Sounds/Kick/TR-626...       ...         [1.0, 0.0, 0.0]\n",
       "2  ../input/three sounds/Three Sounds/Kick/HR16B ...       ...         [1.0, 0.0, 0.0]\n",
       "3  ../input/three sounds/Three Sounds/Snare/DR-66...       ...         [0.0, 0.0, 1.0]\n",
       "4  ../input/three sounds/Three Sounds/Snare/MaxV ...       ...         [0.0, 0.0, 1.0]\n",
       "\n",
       "[5 rows x 5 columns]"
      ]
     },
     "execution_count": 20,
     "metadata": {},
     "output_type": "execute_result"
    }
   ],
   "source": [
    "df_test.head()"
   ]
  },
  {
   "cell_type": "code",
   "execution_count": 21,
   "metadata": {
    "_uuid": "2223426c14e6f89fc5361f498a7e2d1e34439ba8"
   },
   "outputs": [
    {
     "data": {
      "text/plain": [
       "((779, 195), (167, 195), (167, 195))"
      ]
     },
     "execution_count": 21,
     "metadata": {},
     "output_type": "execute_result"
    }
   ],
   "source": [
    "train_x.shape, val_x.shape, test_x.shape "
   ]
  },
  {
   "cell_type": "code",
   "execution_count": 22,
   "metadata": {},
   "outputs": [
    {
     "data": {
      "text/plain": [
       "(779, 3)"
      ]
     },
     "execution_count": 22,
     "metadata": {},
     "output_type": "execute_result"
    }
   ],
   "source": [
    "train_y.shape"
   ]
  },
  {
   "cell_type": "markdown",
   "metadata": {
    "_uuid": "8742dc78262e34500fd87d4c09e3cb04a3bda644"
   },
   "source": [
    "# Building Model"
   ]
  },
  {
   "cell_type": "code",
   "execution_count": 23,
   "metadata": {
    "_uuid": "48fd8c34be4d89535f1ca24308212b8198954cc6"
   },
   "outputs": [
    {
     "name": "stderr",
     "output_type": "stream",
     "text": [
      "Using TensorFlow backend.\n"
     ]
    }
   ],
   "source": [
    "from keras.models import Model, Sequential\n",
    "from keras.layers import Input,Dense,Dropout"
   ]
  },
  {
   "cell_type": "code",
   "execution_count": 24,
   "metadata": {},
   "outputs": [
    {
     "data": {
      "text/plain": [
       "3"
      ]
     },
     "execution_count": 24,
     "metadata": {},
     "output_type": "execute_result"
    }
   ],
   "source": [
    "Output_num = len(df['Target'][0])\n",
    "Output_num"
   ]
  },
  {
   "cell_type": "code",
   "execution_count": 25,
   "metadata": {
    "_uuid": "78fe198a1e9928c38c14d91edd5283d5e94ebd03"
   },
   "outputs": [],
   "source": [
    "#This returns a tensor\n",
    "# inputs = Input(shape=(train_x.shape[1],))\n",
    "\n",
    "model = Sequential()\n",
    "model.add(Dense(128, activation='relu',kernel_initializer=\"random_uniform\", bias_initializer=\"zeros\"))\n",
    "model.add(Dropout(0.30))\n",
    "model.add(Dense(64, activation='relu',kernel_initializer=\"random_uniform\", bias_initializer=\"zeros\"))\n",
    "model.add(Dropout(0.20))\n",
    "model.add(Dense(32, activation='relu',kernel_initializer=\"random_uniform\", bias_initializer=\"zeros\"))\n",
    "model.add(Dropout(0.10))\n",
    "model.add(Dense(Output_num, activation='softmax'))\n",
    "\n",
    "# # a layer instance is callable on a tensor, and returns a tensor\n",
    "# x = Dense(64, activation='relu')(inputs)\n",
    "# x = Dense(64, activation='relu')(x)\n",
    "# x = Dense(64, activation='relu')(x)\n",
    "# x = Dense(64, activation='relu',kernel_initializer=\"random_uniform\", bias_initializer=\"zeros\")(inputs)\n",
    "# x = Dense(64, activation='relu',kernel_initializer=\"random_uniform\", bias_initializer=\"zeros\")(x)\n",
    "# x = Dense(64, activation='relu',kernel_initializer=\"random_uniform\", bias_initializer=\"zeros\")(x)\n",
    "# predictions = Dense(Output_num, activation='softmax')(x)\n",
    "#predictions = Dense(3, activation='softmax')(x)\n",
    "# predictions = Dense(2, activation='softmax')(inputs)\n",
    "\n",
    "# # This creates a model that includes\n",
    "# # the Input layer and three Dense layers\n",
    "# model = Model(inputs=inputs, outputs=predictions)\n",
    "\n",
    "model.compile(optimizer='rmsprop',\n",
    "              loss='categorical_crossentropy',\n",
    "              metrics=['accuracy'])\n",
    "# print(model.summary())"
   ]
  },
  {
   "cell_type": "code",
   "execution_count": 26,
   "metadata": {
    "_uuid": "03486555ee0080a93214600b539d5ea73d1b1e75"
   },
   "outputs": [
    {
     "name": "stdout",
     "output_type": "stream",
     "text": [
      "Train on 779 samples, validate on 167 samples\n",
      "Epoch 1/200\n",
      "779/779 [==============================] - 4s 5ms/step - loss: 0.6997 - acc: 0.7253 - val_loss: 0.3368 - val_acc: 0.8922\n",
      "Epoch 2/200\n",
      "779/779 [==============================] - 0s 84us/step - loss: 0.3375 - acc: 0.8883 - val_loss: 0.2663 - val_acc: 0.9042\n",
      "Epoch 3/200\n",
      "779/779 [==============================] - 0s 81us/step - loss: 0.2752 - acc: 0.9024 - val_loss: 0.4437 - val_acc: 0.7904\n",
      "Epoch 4/200\n",
      "779/779 [==============================] - 0s 87us/step - loss: 0.2399 - acc: 0.9166 - val_loss: 0.2415 - val_acc: 0.8862\n",
      "Epoch 5/200\n",
      "779/779 [==============================] - 0s 89us/step - loss: 0.2090 - acc: 0.9268 - val_loss: 0.1504 - val_acc: 0.9401\n",
      "Epoch 6/200\n",
      "779/779 [==============================] - 0s 85us/step - loss: 0.1839 - acc: 0.9358 - val_loss: 0.1388 - val_acc: 0.9521\n",
      "Epoch 7/200\n",
      "779/779 [==============================] - 0s 87us/step - loss: 0.1815 - acc: 0.9409 - val_loss: 0.1261 - val_acc: 0.9581\n",
      "Epoch 8/200\n",
      "779/779 [==============================] - 0s 83us/step - loss: 0.1861 - acc: 0.9448 - val_loss: 0.2048 - val_acc: 0.9461\n",
      "Epoch 9/200\n",
      "779/779 [==============================] - 0s 82us/step - loss: 0.1417 - acc: 0.9448 - val_loss: 0.1572 - val_acc: 0.9521\n",
      "Epoch 10/200\n",
      "779/779 [==============================] - 0s 82us/step - loss: 0.1431 - acc: 0.9551 - val_loss: 0.1427 - val_acc: 0.9521\n",
      "Epoch 11/200\n",
      "779/779 [==============================] - 0s 86us/step - loss: 0.1407 - acc: 0.9589 - val_loss: 0.1815 - val_acc: 0.9341\n",
      "Epoch 12/200\n",
      "779/779 [==============================] - 0s 86us/step - loss: 0.1501 - acc: 0.9474 - val_loss: 0.1284 - val_acc: 0.9641\n",
      "Epoch 13/200\n",
      "779/779 [==============================] - 0s 83us/step - loss: 0.1373 - acc: 0.9564 - val_loss: 0.1333 - val_acc: 0.9581\n",
      "Epoch 14/200\n",
      "779/779 [==============================] - 0s 89us/step - loss: 0.1151 - acc: 0.9564 - val_loss: 0.3592 - val_acc: 0.8503\n",
      "Epoch 15/200\n",
      "779/779 [==============================] - 0s 91us/step - loss: 0.1419 - acc: 0.9551 - val_loss: 0.2301 - val_acc: 0.9341\n",
      "Epoch 16/200\n",
      "779/779 [==============================] - 0s 81us/step - loss: 0.1103 - acc: 0.9615 - val_loss: 0.1376 - val_acc: 0.9641\n",
      "Epoch 17/200\n",
      "779/779 [==============================] - 0s 86us/step - loss: 0.1112 - acc: 0.9641 - val_loss: 0.1395 - val_acc: 0.9641\n",
      "Epoch 18/200\n",
      "779/779 [==============================] - 0s 83us/step - loss: 0.1199 - acc: 0.9589 - val_loss: 0.1661 - val_acc: 0.9461\n",
      "Epoch 19/200\n",
      "779/779 [==============================] - 0s 93us/step - loss: 0.1377 - acc: 0.9576 - val_loss: 0.1628 - val_acc: 0.9461\n",
      "Epoch 20/200\n",
      "779/779 [==============================] - 0s 86us/step - loss: 0.1056 - acc: 0.9615 - val_loss: 0.1750 - val_acc: 0.9581\n",
      "Epoch 21/200\n",
      "779/779 [==============================] - 0s 82us/step - loss: 0.0986 - acc: 0.9666 - val_loss: 0.1482 - val_acc: 0.9820\n",
      "Epoch 22/200\n",
      "779/779 [==============================] - 0s 86us/step - loss: 0.1247 - acc: 0.9538 - val_loss: 0.1588 - val_acc: 0.9581\n",
      "Epoch 23/200\n",
      "779/779 [==============================] - 0s 82us/step - loss: 0.0883 - acc: 0.9628 - val_loss: 0.2477 - val_acc: 0.9102\n",
      "Epoch 24/200\n",
      "779/779 [==============================] - 0s 86us/step - loss: 0.0978 - acc: 0.9679 - val_loss: 0.1448 - val_acc: 0.9581\n",
      "Epoch 25/200\n",
      "779/779 [==============================] - 0s 82us/step - loss: 0.0971 - acc: 0.9628 - val_loss: 0.1683 - val_acc: 0.9581\n",
      "Epoch 26/200\n",
      "779/779 [==============================] - 0s 86us/step - loss: 0.0899 - acc: 0.9692 - val_loss: 0.1762 - val_acc: 0.9641\n",
      "Epoch 27/200\n",
      "779/779 [==============================] - 0s 83us/step - loss: 0.0832 - acc: 0.9705 - val_loss: 0.1624 - val_acc: 0.9521\n",
      "Epoch 28/200\n",
      "779/779 [==============================] - 0s 83us/step - loss: 0.0854 - acc: 0.9730 - val_loss: 0.1707 - val_acc: 0.9581\n",
      "Epoch 29/200\n",
      "779/779 [==============================] - 0s 91us/step - loss: 0.0878 - acc: 0.9730 - val_loss: 0.1746 - val_acc: 0.9581\n",
      "Epoch 30/200\n",
      "779/779 [==============================] - 0s 88us/step - loss: 0.0880 - acc: 0.9705 - val_loss: 0.1596 - val_acc: 0.9581\n",
      "Epoch 31/200\n",
      "779/779 [==============================] - 0s 87us/step - loss: 0.0934 - acc: 0.9730 - val_loss: 0.1738 - val_acc: 0.9641\n",
      "Epoch 32/200\n",
      "779/779 [==============================] - 0s 82us/step - loss: 0.0667 - acc: 0.9756 - val_loss: 0.1628 - val_acc: 0.9641\n",
      "Epoch 33/200\n",
      "779/779 [==============================] - 0s 82us/step - loss: 0.0596 - acc: 0.9807 - val_loss: 0.1707 - val_acc: 0.9641\n",
      "Epoch 34/200\n",
      "779/779 [==============================] - 0s 88us/step - loss: 0.0936 - acc: 0.9628 - val_loss: 0.2211 - val_acc: 0.9641\n",
      "Epoch 35/200\n",
      "779/779 [==============================] - 0s 87us/step - loss: 0.0889 - acc: 0.9692 - val_loss: 0.2535 - val_acc: 0.9521\n",
      "Epoch 36/200\n",
      "779/779 [==============================] - 0s 87us/step - loss: 0.0656 - acc: 0.9769 - val_loss: 0.1908 - val_acc: 0.9581\n",
      "Epoch 37/200\n",
      "779/779 [==============================] - 0s 87us/step - loss: 0.0598 - acc: 0.9782 - val_loss: 0.1705 - val_acc: 0.9581\n",
      "Epoch 38/200\n",
      "779/779 [==============================] - 0s 81us/step - loss: 0.0624 - acc: 0.9743 - val_loss: 0.1807 - val_acc: 0.9701\n",
      "Epoch 39/200\n",
      "779/779 [==============================] - 0s 83us/step - loss: 0.0618 - acc: 0.9756 - val_loss: 0.1885 - val_acc: 0.9581\n",
      "Epoch 40/200\n",
      "779/779 [==============================] - 0s 82us/step - loss: 0.0905 - acc: 0.9705 - val_loss: 0.1580 - val_acc: 0.9701\n",
      "Epoch 41/200\n",
      "779/779 [==============================] - 0s 85us/step - loss: 0.0542 - acc: 0.9820 - val_loss: 0.1463 - val_acc: 0.9820\n",
      "Epoch 42/200\n",
      "779/779 [==============================] - 0s 86us/step - loss: 0.0469 - acc: 0.9795 - val_loss: 0.1513 - val_acc: 0.9701\n",
      "Epoch 43/200\n",
      "779/779 [==============================] - 0s 86us/step - loss: 0.0421 - acc: 0.9807 - val_loss: 0.1748 - val_acc: 0.9701\n",
      "Epoch 44/200\n",
      "779/779 [==============================] - 0s 91us/step - loss: 0.0704 - acc: 0.9756 - val_loss: 0.1482 - val_acc: 0.9760\n",
      "Epoch 45/200\n",
      "779/779 [==============================] - 0s 87us/step - loss: 0.0450 - acc: 0.9807 - val_loss: 0.2783 - val_acc: 0.9401\n",
      "Epoch 46/200\n",
      "779/779 [==============================] - 0s 92us/step - loss: 0.1020 - acc: 0.9718 - val_loss: 0.1606 - val_acc: 0.9701\n",
      "Epoch 47/200\n",
      "779/779 [==============================] - 0s 81us/step - loss: 0.0505 - acc: 0.9833 - val_loss: 0.1888 - val_acc: 0.9641\n",
      "Epoch 48/200\n",
      "779/779 [==============================] - 0s 81us/step - loss: 0.0550 - acc: 0.9795 - val_loss: 0.2087 - val_acc: 0.9581\n",
      "Epoch 49/200\n",
      "779/779 [==============================] - 0s 88us/step - loss: 0.0530 - acc: 0.9782 - val_loss: 0.1771 - val_acc: 0.9641\n",
      "Epoch 50/200\n",
      "779/779 [==============================] - 0s 81us/step - loss: 0.0589 - acc: 0.9795 - val_loss: 0.1893 - val_acc: 0.9701\n",
      "Epoch 51/200\n",
      "779/779 [==============================] - 0s 87us/step - loss: 0.0483 - acc: 0.9859 - val_loss: 0.3085 - val_acc: 0.9401\n",
      "Epoch 52/200\n",
      "779/779 [==============================] - 0s 87us/step - loss: 0.0759 - acc: 0.9756 - val_loss: 0.1400 - val_acc: 0.9760\n",
      "Epoch 53/200\n",
      "779/779 [==============================] - 0s 82us/step - loss: 0.0482 - acc: 0.9807 - val_loss: 0.2562 - val_acc: 0.9401\n",
      "Epoch 54/200\n",
      "779/779 [==============================] - 0s 86us/step - loss: 0.0744 - acc: 0.9833 - val_loss: 0.2141 - val_acc: 0.9641\n",
      "Epoch 55/200\n",
      "779/779 [==============================] - 0s 87us/step - loss: 0.0566 - acc: 0.9807 - val_loss: 0.1598 - val_acc: 0.9701\n",
      "Epoch 56/200\n",
      "779/779 [==============================] - 0s 85us/step - loss: 0.0342 - acc: 0.9884 - val_loss: 0.1958 - val_acc: 0.9701\n",
      "Epoch 57/200\n",
      "779/779 [==============================] - 0s 82us/step - loss: 0.0418 - acc: 0.9859 - val_loss: 0.1793 - val_acc: 0.9701\n",
      "Epoch 58/200\n",
      "779/779 [==============================] - 0s 82us/step - loss: 0.0735 - acc: 0.9769 - val_loss: 0.1792 - val_acc: 0.9760\n",
      "Epoch 59/200\n",
      "779/779 [==============================] - 0s 90us/step - loss: 0.0558 - acc: 0.9884 - val_loss: 0.1712 - val_acc: 0.9760\n",
      "Epoch 60/200\n",
      "779/779 [==============================] - 0s 87us/step - loss: 0.0531 - acc: 0.9795 - val_loss: 0.1986 - val_acc: 0.9581\n",
      "Epoch 61/200\n",
      "779/779 [==============================] - 0s 83us/step - loss: 0.0362 - acc: 0.9859 - val_loss: 0.1793 - val_acc: 0.9641\n",
      "Epoch 62/200\n",
      "779/779 [==============================] - 0s 82us/step - loss: 0.0700 - acc: 0.9756 - val_loss: 0.2050 - val_acc: 0.9581\n",
      "Epoch 63/200\n",
      "779/779 [==============================] - 0s 87us/step - loss: 0.0335 - acc: 0.9872 - val_loss: 0.3399 - val_acc: 0.9341\n",
      "Epoch 64/200\n",
      "779/779 [==============================] - 0s 91us/step - loss: 0.0476 - acc: 0.9807 - val_loss: 0.1864 - val_acc: 0.9701\n",
      "Epoch 65/200\n",
      "779/779 [==============================] - 0s 81us/step - loss: 0.0392 - acc: 0.9820 - val_loss: 0.1822 - val_acc: 0.9760\n",
      "Epoch 66/200\n",
      "779/779 [==============================] - 0s 91us/step - loss: 0.0523 - acc: 0.9820 - val_loss: 0.2866 - val_acc: 0.9341\n",
      "Epoch 67/200\n",
      "779/779 [==============================] - 0s 86us/step - loss: 0.0442 - acc: 0.9795 - val_loss: 0.2029 - val_acc: 0.9760\n",
      "Epoch 68/200\n",
      "779/779 [==============================] - 0s 86us/step - loss: 0.0359 - acc: 0.9846 - val_loss: 0.1756 - val_acc: 0.9701\n",
      "Epoch 69/200\n",
      "779/779 [==============================] - 0s 81us/step - loss: 0.0370 - acc: 0.9884 - val_loss: 0.2081 - val_acc: 0.9581\n",
      "Epoch 70/200\n",
      "779/779 [==============================] - 0s 86us/step - loss: 0.0618 - acc: 0.9807 - val_loss: 0.1566 - val_acc: 0.9701\n",
      "Epoch 71/200\n",
      "779/779 [==============================] - 0s 82us/step - loss: 0.0304 - acc: 0.9846 - val_loss: 0.2134 - val_acc: 0.9701\n",
      "Epoch 72/200\n",
      "779/779 [==============================] - 0s 86us/step - loss: 0.0541 - acc: 0.9820 - val_loss: 0.1934 - val_acc: 0.9641\n",
      "Epoch 73/200\n",
      "779/779 [==============================] - 0s 88us/step - loss: 0.0471 - acc: 0.9846 - val_loss: 0.1617 - val_acc: 0.9760\n",
      "Epoch 74/200\n",
      "779/779 [==============================] - 0s 93us/step - loss: 0.0398 - acc: 0.9846 - val_loss: 0.1565 - val_acc: 0.9760\n",
      "Epoch 75/200\n",
      "779/779 [==============================] - 0s 86us/step - loss: 0.0181 - acc: 0.9936 - val_loss: 0.2066 - val_acc: 0.9641\n",
      "Epoch 76/200\n",
      "779/779 [==============================] - 0s 85us/step - loss: 0.0263 - acc: 0.9884 - val_loss: 0.3133 - val_acc: 0.9341\n",
      "Epoch 77/200\n",
      "779/779 [==============================] - 0s 85us/step - loss: 0.0581 - acc: 0.9782 - val_loss: 0.1508 - val_acc: 0.9820\n",
      "Epoch 78/200\n",
      "779/779 [==============================] - 0s 86us/step - loss: 0.0278 - acc: 0.9910 - val_loss: 0.2100 - val_acc: 0.9701\n",
      "Epoch 79/200\n",
      "779/779 [==============================] - 0s 81us/step - loss: 0.0292 - acc: 0.9884 - val_loss: 0.2222 - val_acc: 0.9760\n",
      "Epoch 80/200\n",
      "779/779 [==============================] - 0s 82us/step - loss: 0.0333 - acc: 0.9833 - val_loss: 0.1816 - val_acc: 0.9760\n",
      "Epoch 81/200\n",
      "779/779 [==============================] - 0s 90us/step - loss: 0.0513 - acc: 0.9859 - val_loss: 0.1868 - val_acc: 0.9760\n",
      "Epoch 82/200\n",
      "779/779 [==============================] - 0s 89us/step - loss: 0.0342 - acc: 0.9910 - val_loss: 0.1452 - val_acc: 0.9760\n",
      "Epoch 83/200\n",
      "779/779 [==============================] - 0s 86us/step - loss: 0.0468 - acc: 0.9846 - val_loss: 0.1763 - val_acc: 0.9641\n",
      "Epoch 84/200\n",
      "779/779 [==============================] - 0s 87us/step - loss: 0.0289 - acc: 0.9897 - val_loss: 0.2086 - val_acc: 0.9701\n",
      "Epoch 85/200\n",
      "779/779 [==============================] - 0s 84us/step - loss: 0.0287 - acc: 0.9897 - val_loss: 0.1744 - val_acc: 0.9820\n",
      "Epoch 86/200\n",
      "779/779 [==============================] - 0s 87us/step - loss: 0.0844 - acc: 0.9730 - val_loss: 0.1874 - val_acc: 0.9760\n",
      "Epoch 87/200\n",
      "779/779 [==============================] - 0s 85us/step - loss: 0.0124 - acc: 0.9949 - val_loss: 0.2169 - val_acc: 0.9701\n",
      "Epoch 88/200\n",
      "779/779 [==============================] - 0s 89us/step - loss: 0.0432 - acc: 0.9884 - val_loss: 0.1800 - val_acc: 0.9760\n",
      "Epoch 89/200\n",
      "779/779 [==============================] - 0s 86us/step - loss: 0.0200 - acc: 0.9910 - val_loss: 0.1684 - val_acc: 0.9760\n",
      "Epoch 90/200\n",
      "779/779 [==============================] - 0s 82us/step - loss: 0.0564 - acc: 0.9820 - val_loss: 0.1901 - val_acc: 0.9760\n",
      "Epoch 91/200\n",
      "779/779 [==============================] - 0s 85us/step - loss: 0.0206 - acc: 0.9923 - val_loss: 0.1986 - val_acc: 0.9701\n",
      "Epoch 92/200\n",
      "779/779 [==============================] - 0s 85us/step - loss: 0.0370 - acc: 0.9872 - val_loss: 0.2087 - val_acc: 0.9701\n",
      "Epoch 93/200\n",
      "779/779 [==============================] - 0s 89us/step - loss: 0.0325 - acc: 0.9859 - val_loss: 0.2178 - val_acc: 0.9820\n",
      "Epoch 94/200\n",
      "779/779 [==============================] - 0s 87us/step - loss: 0.0150 - acc: 0.9936 - val_loss: 0.2941 - val_acc: 0.9701\n",
      "Epoch 95/200\n",
      "779/779 [==============================] - 0s 85us/step - loss: 0.0361 - acc: 0.9910 - val_loss: 0.2108 - val_acc: 0.9760\n",
      "Epoch 96/200\n",
      "779/779 [==============================] - 0s 87us/step - loss: 0.0427 - acc: 0.9872 - val_loss: 0.1817 - val_acc: 0.9701\n",
      "Epoch 97/200\n",
      "779/779 [==============================] - 0s 83us/step - loss: 0.0360 - acc: 0.9884 - val_loss: 0.2010 - val_acc: 0.9760\n",
      "Epoch 98/200\n",
      "779/779 [==============================] - 0s 82us/step - loss: 0.0128 - acc: 0.9949 - val_loss: 0.1929 - val_acc: 0.9760\n",
      "Epoch 99/200\n",
      "779/779 [==============================] - 0s 85us/step - loss: 0.0233 - acc: 0.9923 - val_loss: 0.2519 - val_acc: 0.9701\n",
      "Epoch 100/200\n",
      "779/779 [==============================] - 0s 82us/step - loss: 0.0228 - acc: 0.9910 - val_loss: 0.1713 - val_acc: 0.9760\n",
      "Epoch 101/200\n",
      "779/779 [==============================] - 0s 83us/step - loss: 0.0385 - acc: 0.9897 - val_loss: 0.2041 - val_acc: 0.9760\n",
      "Epoch 102/200\n",
      "779/779 [==============================] - 0s 86us/step - loss: 0.0464 - acc: 0.9884 - val_loss: 0.3508 - val_acc: 0.9461\n",
      "Epoch 103/200\n",
      "779/779 [==============================] - 0s 90us/step - loss: 0.0734 - acc: 0.9820 - val_loss: 0.2125 - val_acc: 0.9701\n",
      "Epoch 104/200\n",
      "779/779 [==============================] - 0s 90us/step - loss: 0.0242 - acc: 0.9897 - val_loss: 0.1787 - val_acc: 0.9760\n",
      "Epoch 105/200\n",
      "779/779 [==============================] - 0s 81us/step - loss: 0.0227 - acc: 0.9910 - val_loss: 0.2786 - val_acc: 0.9760\n",
      "Epoch 106/200\n",
      "779/779 [==============================] - 0s 82us/step - loss: 0.0385 - acc: 0.9820 - val_loss: 0.2190 - val_acc: 0.9701\n",
      "Epoch 107/200\n",
      "779/779 [==============================] - 0s 85us/step - loss: 0.0158 - acc: 0.9936 - val_loss: 0.2066 - val_acc: 0.9820\n",
      "Epoch 108/200\n",
      "779/779 [==============================] - 0s 92us/step - loss: 0.0090 - acc: 0.9961 - val_loss: 0.2319 - val_acc: 0.9760\n",
      "Epoch 109/200\n",
      "779/779 [==============================] - 0s 85us/step - loss: 0.0195 - acc: 0.9936 - val_loss: 0.3324 - val_acc: 0.9641\n",
      "Epoch 110/200\n",
      "779/779 [==============================] - 0s 85us/step - loss: 0.0730 - acc: 0.9859 - val_loss: 0.2280 - val_acc: 0.9701\n",
      "Epoch 111/200\n",
      "779/779 [==============================] - 0s 88us/step - loss: 0.0196 - acc: 0.9897 - val_loss: 0.2399 - val_acc: 0.9760\n",
      "Epoch 112/200\n",
      "779/779 [==============================] - 0s 86us/step - loss: 0.0329 - acc: 0.9910 - val_loss: 0.2190 - val_acc: 0.9760\n",
      "Epoch 113/200\n",
      "779/779 [==============================] - 0s 82us/step - loss: 0.0147 - acc: 0.9936 - val_loss: 0.2552 - val_acc: 0.9641\n",
      "Epoch 114/200\n",
      "779/779 [==============================] - 0s 85us/step - loss: 0.0225 - acc: 0.9936 - val_loss: 0.2757 - val_acc: 0.9641\n",
      "Epoch 115/200\n",
      "779/779 [==============================] - 0s 86us/step - loss: 0.0156 - acc: 0.9923 - val_loss: 0.2144 - val_acc: 0.9760\n",
      "Epoch 116/200\n",
      "779/779 [==============================] - 0s 85us/step - loss: 0.0278 - acc: 0.9897 - val_loss: 0.2307 - val_acc: 0.9701\n",
      "Epoch 117/200\n",
      "779/779 [==============================] - 0s 87us/step - loss: 0.0320 - acc: 0.9884 - val_loss: 0.2393 - val_acc: 0.9701\n",
      "Epoch 118/200\n",
      "779/779 [==============================] - 0s 93us/step - loss: 0.0104 - acc: 0.9961 - val_loss: 0.2570 - val_acc: 0.9701\n",
      "Epoch 119/200\n",
      "779/779 [==============================] - 0s 86us/step - loss: 0.0407 - acc: 0.9897 - val_loss: 0.3052 - val_acc: 0.9641\n",
      "Epoch 120/200\n",
      "779/779 [==============================] - 0s 86us/step - loss: 0.0205 - acc: 0.9910 - val_loss: 0.1951 - val_acc: 0.9760\n",
      "Epoch 121/200\n",
      "779/779 [==============================] - 0s 85us/step - loss: 0.0252 - acc: 0.9936 - val_loss: 0.1845 - val_acc: 0.9820\n",
      "Epoch 122/200\n",
      "779/779 [==============================] - 0s 85us/step - loss: 0.0213 - acc: 0.9936 - val_loss: 0.2063 - val_acc: 0.9701\n",
      "Epoch 123/200\n",
      "779/779 [==============================] - 0s 91us/step - loss: 0.0237 - acc: 0.9897 - val_loss: 0.1761 - val_acc: 0.9820\n",
      "Epoch 124/200\n",
      "779/779 [==============================] - 0s 82us/step - loss: 0.0616 - acc: 0.9846 - val_loss: 0.3519 - val_acc: 0.9461\n",
      "Epoch 125/200\n",
      "779/779 [==============================] - 0s 87us/step - loss: 0.0532 - acc: 0.9872 - val_loss: 0.2147 - val_acc: 0.9760\n",
      "Epoch 126/200\n",
      "779/779 [==============================] - 0s 86us/step - loss: 0.0134 - acc: 0.9974 - val_loss: 0.2062 - val_acc: 0.9701\n",
      "Epoch 127/200\n",
      "779/779 [==============================] - 0s 91us/step - loss: 0.0408 - acc: 0.9949 - val_loss: 0.2264 - val_acc: 0.9701\n",
      "Epoch 128/200\n",
      "779/779 [==============================] - 0s 89us/step - loss: 0.0136 - acc: 0.9949 - val_loss: 0.2390 - val_acc: 0.9760\n",
      "Epoch 129/200\n",
      "779/779 [==============================] - 0s 93us/step - loss: 0.0326 - acc: 0.9910 - val_loss: 0.2528 - val_acc: 0.9701\n",
      "Epoch 130/200\n",
      "779/779 [==============================] - 0s 85us/step - loss: 0.0176 - acc: 0.9936 - val_loss: 0.2607 - val_acc: 0.9641\n",
      "Epoch 131/200\n",
      "779/779 [==============================] - 0s 84us/step - loss: 0.0104 - acc: 0.9949 - val_loss: 0.1660 - val_acc: 0.9880\n",
      "Epoch 132/200\n",
      "779/779 [==============================] - 0s 88us/step - loss: 0.0176 - acc: 0.9923 - val_loss: 0.2266 - val_acc: 0.9760\n",
      "Epoch 133/200\n",
      "779/779 [==============================] - 0s 89us/step - loss: 0.0399 - acc: 0.9910 - val_loss: 0.2497 - val_acc: 0.9641\n",
      "Epoch 134/200\n",
      "779/779 [==============================] - 0s 85us/step - loss: 0.0244 - acc: 0.9910 - val_loss: 0.1800 - val_acc: 0.9820\n",
      "Epoch 135/200\n",
      "779/779 [==============================] - 0s 81us/step - loss: 0.0069 - acc: 0.9974 - val_loss: 0.2129 - val_acc: 0.9760\n",
      "Epoch 136/200\n",
      "779/779 [==============================] - 0s 82us/step - loss: 0.0210 - acc: 0.9949 - val_loss: 0.2563 - val_acc: 0.9760\n",
      "Epoch 137/200\n",
      "779/779 [==============================] - 0s 91us/step - loss: 0.0610 - acc: 0.9872 - val_loss: 0.1990 - val_acc: 0.9880\n",
      "Epoch 138/200\n",
      "779/779 [==============================] - 0s 87us/step - loss: 0.0070 - acc: 0.9974 - val_loss: 0.1953 - val_acc: 0.9820\n",
      "Epoch 139/200\n",
      "779/779 [==============================] - 0s 87us/step - loss: 0.0127 - acc: 0.9949 - val_loss: 0.1718 - val_acc: 0.9820\n",
      "Epoch 140/200\n",
      "779/779 [==============================] - 0s 87us/step - loss: 0.0353 - acc: 0.9884 - val_loss: 0.1807 - val_acc: 0.9760\n",
      "Epoch 141/200\n",
      "779/779 [==============================] - 0s 91us/step - loss: 0.0074 - acc: 0.9974 - val_loss: 0.1895 - val_acc: 0.9820\n",
      "Epoch 142/200\n",
      "779/779 [==============================] - 0s 83us/step - loss: 0.0668 - acc: 0.9884 - val_loss: 0.2109 - val_acc: 0.9701\n",
      "Epoch 143/200\n",
      "779/779 [==============================] - 0s 85us/step - loss: 0.0076 - acc: 0.9987 - val_loss: 0.1738 - val_acc: 0.9880\n",
      "Epoch 144/200\n",
      "779/779 [==============================] - 0s 86us/step - loss: 0.0258 - acc: 0.9910 - val_loss: 0.2435 - val_acc: 0.9641\n",
      "Epoch 145/200\n",
      "779/779 [==============================] - 0s 87us/step - loss: 0.0660 - acc: 0.9846 - val_loss: 0.2548 - val_acc: 0.9701\n",
      "Epoch 146/200\n",
      "779/779 [==============================] - 0s 82us/step - loss: 0.0063 - acc: 0.9987 - val_loss: 0.2508 - val_acc: 0.9701\n",
      "Epoch 147/200\n",
      "779/779 [==============================] - 0s 92us/step - loss: 0.0211 - acc: 0.9923 - val_loss: 0.2585 - val_acc: 0.9701\n",
      "Epoch 148/200\n",
      "779/779 [==============================] - 0s 89us/step - loss: 0.0207 - acc: 0.9961 - val_loss: 0.1888 - val_acc: 0.9820\n",
      "Epoch 149/200\n",
      "779/779 [==============================] - 0s 86us/step - loss: 0.0106 - acc: 0.9961 - val_loss: 0.2513 - val_acc: 0.9760\n",
      "Epoch 150/200\n",
      "779/779 [==============================] - 0s 86us/step - loss: 0.0519 - acc: 0.9884 - val_loss: 0.2227 - val_acc: 0.9701\n",
      "Epoch 151/200\n",
      "779/779 [==============================] - 0s 82us/step - loss: 0.0315 - acc: 0.9897 - val_loss: 0.1855 - val_acc: 0.9760\n",
      "Epoch 152/200\n",
      "779/779 [==============================] - 0s 88us/step - loss: 0.0322 - acc: 0.9884 - val_loss: 0.2040 - val_acc: 0.9760\n",
      "Epoch 153/200\n",
      "779/779 [==============================] - 0s 87us/step - loss: 0.0202 - acc: 0.9923 - val_loss: 0.2320 - val_acc: 0.9760\n",
      "Epoch 154/200\n",
      "779/779 [==============================] - 0s 88us/step - loss: 0.0438 - acc: 0.9936 - val_loss: 0.2249 - val_acc: 0.9760\n",
      "Epoch 155/200\n",
      "779/779 [==============================] - 0s 87us/step - loss: 0.0191 - acc: 0.9949 - val_loss: 0.2025 - val_acc: 0.9820\n",
      "Epoch 156/200\n",
      "779/779 [==============================] - 0s 85us/step - loss: 0.0148 - acc: 0.9961 - val_loss: 0.2125 - val_acc: 0.9760\n",
      "Epoch 157/200\n",
      "779/779 [==============================] - 0s 85us/step - loss: 0.0282 - acc: 0.9910 - val_loss: 0.3397 - val_acc: 0.9521\n",
      "Epoch 158/200\n",
      "779/779 [==============================] - 0s 82us/step - loss: 0.0392 - acc: 0.9884 - val_loss: 0.2050 - val_acc: 0.9701\n",
      "Epoch 159/200\n",
      "779/779 [==============================] - 0s 81us/step - loss: 0.0102 - acc: 0.9974 - val_loss: 0.1937 - val_acc: 0.9760\n",
      "Epoch 160/200\n",
      "779/779 [==============================] - 0s 86us/step - loss: 0.0224 - acc: 0.9936 - val_loss: 0.2294 - val_acc: 0.9701\n",
      "Epoch 161/200\n",
      "779/779 [==============================] - 0s 132us/step - loss: 0.0276 - acc: 0.9961 - val_loss: 0.2876 - val_acc: 0.9581\n",
      "Epoch 162/200\n",
      "779/779 [==============================] - 0s 91us/step - loss: 0.0279 - acc: 0.9897 - val_loss: 0.2570 - val_acc: 0.9760\n",
      "Epoch 163/200\n",
      "779/779 [==============================] - 0s 81us/step - loss: 0.0167 - acc: 0.9923 - val_loss: 0.2318 - val_acc: 0.9760\n",
      "Epoch 164/200\n",
      "779/779 [==============================] - 0s 87us/step - loss: 0.0070 - acc: 0.9961 - val_loss: 0.2154 - val_acc: 0.9701\n",
      "Epoch 165/200\n",
      "779/779 [==============================] - 0s 82us/step - loss: 0.0059 - acc: 0.9961 - val_loss: 0.3253 - val_acc: 0.9701\n",
      "Epoch 166/200\n",
      "779/779 [==============================] - 0s 86us/step - loss: 0.0275 - acc: 0.9936 - val_loss: 0.2580 - val_acc: 0.9760\n",
      "Epoch 167/200\n",
      "779/779 [==============================] - 0s 84us/step - loss: 0.0620 - acc: 0.9923 - val_loss: 0.3224 - val_acc: 0.9521\n",
      "Epoch 168/200\n",
      "779/779 [==============================] - 0s 88us/step - loss: 0.0647 - acc: 0.9846 - val_loss: 0.2424 - val_acc: 0.9701\n",
      "Epoch 169/200\n",
      "779/779 [==============================] - 0s 87us/step - loss: 0.0141 - acc: 0.9936 - val_loss: 0.2512 - val_acc: 0.9701\n",
      "Epoch 170/200\n",
      "779/779 [==============================] - 0s 82us/step - loss: 0.0222 - acc: 0.9910 - val_loss: 0.2008 - val_acc: 0.9760\n",
      "Epoch 171/200\n",
      "779/779 [==============================] - 0s 83us/step - loss: 0.0357 - acc: 0.9897 - val_loss: 0.2325 - val_acc: 0.9760\n",
      "Epoch 172/200\n",
      "779/779 [==============================] - 0s 81us/step - loss: 0.0388 - acc: 0.9897 - val_loss: 0.1993 - val_acc: 0.9701\n",
      "Epoch 173/200\n",
      "779/779 [==============================] - 0s 85us/step - loss: 0.0141 - acc: 0.9936 - val_loss: 0.1859 - val_acc: 0.9760\n",
      "Epoch 174/200\n",
      "779/779 [==============================] - 0s 87us/step - loss: 0.0060 - acc: 0.9974 - val_loss: 0.2499 - val_acc: 0.9641\n",
      "Epoch 175/200\n",
      "779/779 [==============================] - 0s 87us/step - loss: 0.0021 - acc: 1.0000 - val_loss: 0.2349 - val_acc: 0.9760\n",
      "Epoch 176/200\n",
      "779/779 [==============================] - 0s 104us/step - loss: 0.0206 - acc: 0.9961 - val_loss: 0.2789 - val_acc: 0.9701\n",
      "Epoch 177/200\n",
      "779/779 [==============================] - 0s 86us/step - loss: 0.0059 - acc: 0.9987 - val_loss: 0.2509 - val_acc: 0.9760\n",
      "Epoch 178/200\n",
      "779/779 [==============================] - 0s 82us/step - loss: 0.0079 - acc: 0.9961 - val_loss: 0.2119 - val_acc: 0.9820\n",
      "Epoch 179/200\n",
      "779/779 [==============================] - 0s 81us/step - loss: 0.0370 - acc: 0.9884 - val_loss: 0.4092 - val_acc: 0.9581\n",
      "Epoch 180/200\n",
      "779/779 [==============================] - 0s 82us/step - loss: 0.0326 - acc: 0.9872 - val_loss: 0.2144 - val_acc: 0.9820\n",
      "Epoch 181/200\n",
      "779/779 [==============================] - 0s 88us/step - loss: 0.0147 - acc: 0.9961 - val_loss: 0.2502 - val_acc: 0.9760\n",
      "Epoch 182/200\n",
      "779/779 [==============================] - 0s 82us/step - loss: 0.0178 - acc: 0.9936 - val_loss: 0.2444 - val_acc: 0.9760\n",
      "Epoch 183/200\n",
      "779/779 [==============================] - 0s 85us/step - loss: 0.0023 - acc: 0.9987 - val_loss: 0.2914 - val_acc: 0.9701\n",
      "Epoch 184/200\n",
      "779/779 [==============================] - 0s 87us/step - loss: 0.0173 - acc: 0.9949 - val_loss: 0.2245 - val_acc: 0.9820\n",
      "Epoch 185/200\n",
      "779/779 [==============================] - 0s 82us/step - loss: 0.0286 - acc: 0.9897 - val_loss: 0.2627 - val_acc: 0.9701\n",
      "Epoch 186/200\n",
      "779/779 [==============================] - 0s 81us/step - loss: 0.0109 - acc: 0.9961 - val_loss: 0.2374 - val_acc: 0.9701\n",
      "Epoch 187/200\n",
      "779/779 [==============================] - 0s 85us/step - loss: 0.0060 - acc: 0.9974 - val_loss: 0.1966 - val_acc: 0.9880\n",
      "Epoch 188/200\n",
      "779/779 [==============================] - 0s 89us/step - loss: 0.0038 - acc: 0.9987 - val_loss: 0.2299 - val_acc: 0.9760\n",
      "Epoch 189/200\n",
      "779/779 [==============================] - 0s 81us/step - loss: 0.0478 - acc: 0.9910 - val_loss: 0.2142 - val_acc: 0.9760\n",
      "Epoch 190/200\n",
      "779/779 [==============================] - 0s 86us/step - loss: 0.0057 - acc: 0.9949 - val_loss: 0.2319 - val_acc: 0.9760\n",
      "Epoch 191/200\n",
      "779/779 [==============================] - 0s 89us/step - loss: 0.0271 - acc: 0.9936 - val_loss: 0.2355 - val_acc: 0.9760\n",
      "Epoch 192/200\n",
      "779/779 [==============================] - 0s 87us/step - loss: 0.0062 - acc: 0.9974 - val_loss: 0.2585 - val_acc: 0.9760\n",
      "Epoch 193/200\n",
      "779/779 [==============================] - 0s 90us/step - loss: 0.0264 - acc: 0.9923 - val_loss: 0.2034 - val_acc: 0.9820\n",
      "Epoch 194/200\n",
      "779/779 [==============================] - 0s 82us/step - loss: 0.0259 - acc: 0.9923 - val_loss: 0.3053 - val_acc: 0.9581\n",
      "Epoch 195/200\n",
      "779/779 [==============================] - 0s 84us/step - loss: 0.0109 - acc: 0.9949 - val_loss: 0.2213 - val_acc: 0.9760\n",
      "Epoch 196/200\n",
      "779/779 [==============================] - 0s 86us/step - loss: 0.0350 - acc: 0.9910 - val_loss: 0.2554 - val_acc: 0.9701\n",
      "Epoch 197/200\n",
      "779/779 [==============================] - 0s 84us/step - loss: 0.0115 - acc: 0.9974 - val_loss: 0.2357 - val_acc: 0.9701\n",
      "Epoch 198/200\n",
      "779/779 [==============================] - 0s 88us/step - loss: 0.0029 - acc: 0.9987 - val_loss: 0.2321 - val_acc: 0.9820\n",
      "Epoch 199/200\n",
      "779/779 [==============================] - 0s 86us/step - loss: 0.0188 - acc: 0.9923 - val_loss: 0.2286 - val_acc: 0.9760\n",
      "Epoch 200/200\n",
      "779/779 [==============================] - 0s 86us/step - loss: 0.0131 - acc: 0.9961 - val_loss: 0.1742 - val_acc: 0.9820\n"
     ]
    }
   ],
   "source": [
    "results_val = model.fit(train_x, train_y, validation_data=(val_x,val_y), epochs=200, batch_size=64) # starts training with validating"
   ]
  },
  {
   "cell_type": "code",
   "execution_count": 27,
   "metadata": {},
   "outputs": [
    {
     "name": "stdout",
     "output_type": "stream",
     "text": [
      "_________________________________________________________________\n",
      "Layer (type)                 Output Shape              Param #   \n",
      "=================================================================\n",
      "dense_1 (Dense)              (None, 128)               25088     \n",
      "_________________________________________________________________\n",
      "dropout_1 (Dropout)          (None, 128)               0         \n",
      "_________________________________________________________________\n",
      "dense_2 (Dense)              (None, 64)                8256      \n",
      "_________________________________________________________________\n",
      "dropout_2 (Dropout)          (None, 64)                0         \n",
      "_________________________________________________________________\n",
      "dense_3 (Dense)              (None, 32)                2080      \n",
      "_________________________________________________________________\n",
      "dropout_3 (Dropout)          (None, 32)                0         \n",
      "_________________________________________________________________\n",
      "dense_4 (Dense)              (None, 3)                 99        \n",
      "=================================================================\n",
      "Total params: 35,523\n",
      "Trainable params: 35,523\n",
      "Non-trainable params: 0\n",
      "_________________________________________________________________\n",
      "None\n"
     ]
    }
   ],
   "source": [
    "print(model.summary())"
   ]
  },
  {
   "cell_type": "code",
   "execution_count": 28,
   "metadata": {
    "_uuid": "7bfddce4f6d805b5111bd6aa4f353b250df3fb9a"
   },
   "outputs": [
    {
     "data": {
      "text/plain": [
       "<matplotlib.legend.Legend at 0x7f7dc816f940>"
      ]
     },
     "execution_count": 28,
     "metadata": {},
     "output_type": "execute_result"
    },
    {
     "data": {
      "image/png": "[encoded data removed]",
      "text/plain": [
       "<Figure size 432x288 with 1 Axes>"
      ]
     },
     "metadata": {
      "needs_background": "light"
     },
     "output_type": "display_data"
    }
   ],
   "source": [
    "x_axis = np.arange(200)\n",
    "plt.plot(x_axis, results_val.history['loss'], x_axis, results_val.history['val_loss'])\n",
    "plt.gca().legend(('Loss','Validation Loss'))"
   ]
  },
  {
   "cell_type": "code",
   "execution_count": 29,
   "metadata": {
    "_uuid": "39d111089ebe4e08969fc93bb62bf4e3d75c6c6d"
   },
   "outputs": [
    {
     "data": {
      "text/plain": [
       "<matplotlib.legend.Legend at 0x7f7dc8133b38>"
      ]
     },
     "execution_count": 29,
     "metadata": {},
     "output_type": "execute_result"
    },
    {
     "data": {
      "image/png": "[encoded data removed]",
      "text/plain": [
       "<Figure size 432x288 with 1 Axes>"
      ]
     },
     "metadata": {
      "needs_background": "light"
     },
     "output_type": "display_data"
    }
   ],
   "source": [
    "x_axis = np.arange(200)\n",
    "plt.plot(x_axis, results_val.history['acc'], x_axis, results_val.history['val_acc'])\n",
    "plt.gca().legend(('Accuracy','Validation Accuracy'))"
   ]
  },
  {
   "cell_type": "code",
   "execution_count": 30,
   "metadata": {
    "_uuid": "df05f07407d715eea4fe50bff40b3afb85c82b57"
   },
   "outputs": [],
   "source": [
    "test_loss, test_acc = model.evaluate(test_x, test_y, verbose=0)\n",
    "train_loss, train_acc = model.evaluate(train_x, train_y, verbose=0)"
   ]
  },
  {
   "cell_type": "code",
   "execution_count": 31,
   "metadata": {
    "_uuid": "d8ecf939aa7c0a17023de2cb95285cd21443a56d"
   },
   "outputs": [
    {
     "name": "stdout",
     "output_type": "stream",
     "text": [
      "Test accuracy: 0.9640718562874252\n",
      "Train accuracy: 1.0\n"
     ]
    }
   ],
   "source": [
    "print('Test accuracy:', test_acc)\n",
    "print('Train accuracy:', train_acc)"
   ]
  },
  {
   "cell_type": "markdown",
   "metadata": {},
   "source": [
    "# Make Predictions"
   ]
  },
  {
   "cell_type": "code",
   "execution_count": 32,
   "metadata": {
    "_uuid": "8645845a20ccccde5e969862ac2c3da86d1df6eb"
   },
   "outputs": [],
   "source": [
    "predictions = model.predict(test_x)"
   ]
  },
  {
   "cell_type": "code",
   "execution_count": 33,
   "metadata": {},
   "outputs": [],
   "source": [
    "rounded_predictions = model.predict_classes(test_x)"
   ]
  },
  {
   "cell_type": "code",
   "execution_count": 34,
   "metadata": {},
   "outputs": [
    {
     "data": {
      "text/plain": [
       "2"
      ]
     },
     "execution_count": 34,
     "metadata": {},
     "output_type": "execute_result"
    }
   ],
   "source": [
    "rounded_predictions[0]"
   ]
  },
  {
   "cell_type": "code",
   "execution_count": 35,
   "metadata": {
    "_uuid": "2f3d4ba28a4ed1191c1856a734d411ad96154c0f"
   },
   "outputs": [
    {
     "data": {
      "text/plain": [
       "array([1.0000000e+00, 4.0048687e-14, 5.3580723e-11], dtype=float32)"
      ]
     },
     "execution_count": 35,
     "metadata": {},
     "output_type": "execute_result"
    }
   ],
   "source": [
    "predictions[1]"
   ]
  },
  {
   "cell_type": "code",
   "execution_count": 36,
   "metadata": {
    "_uuid": "f10cf7709455bcf89940a102686a4c5d52ac8c39"
   },
   "outputs": [
    {
     "data": {
      "text/plain": [
       "0"
      ]
     },
     "execution_count": 36,
     "metadata": {},
     "output_type": "execute_result"
    }
   ],
   "source": [
    "np.argmax(predictions[1])"
   ]
  },
  {
   "cell_type": "code",
   "execution_count": 37,
   "metadata": {
    "_uuid": "be803fc9deaacb7713906f2d4e5cdf7acd048f1a"
   },
   "outputs": [
    {
     "data": {
      "text/plain": [
       "2"
      ]
     },
     "execution_count": 37,
     "metadata": {},
     "output_type": "execute_result"
    }
   ],
   "source": [
    "np.argmax(test_y[0])"
   ]
  },
  {
   "cell_type": "code",
   "execution_count": 38,
   "metadata": {},
   "outputs": [
    {
     "name": "stdout",
     "output_type": "stream",
     "text": [
      "161\n"
     ]
    }
   ],
   "source": [
    "counter = 0\n",
    "for i in range(len(test_y)):\n",
    "    if (np.argmax(predictions[i]) == np.argmax(test_y[i])):\n",
    "        counter = counter + 1\n",
    "print(counter)"
   ]
  },
  {
   "cell_type": "code",
   "execution_count": 39,
   "metadata": {},
   "outputs": [
    {
     "name": "stdout",
     "output_type": "stream",
     "text": [
      "86\n"
     ]
    }
   ],
   "source": [
    "snareCounter = 0\n",
    "for i in range(len(df_test)):\n",
    "    if (df_test['Label'][i] == 'Snare'):\n",
    "        snareCounter = snareCounter + 1\n",
    "print(snareCounter)"
   ]
  },
  {
   "cell_type": "markdown",
   "metadata": {},
   "source": [
    "# Creating a table"
   ]
  },
  {
   "cell_type": "code",
   "execution_count": 40,
   "metadata": {},
   "outputs": [
    {
     "data": {
      "text/plain": [
       "['Kick', 'Conga', 'Snare']"
      ]
     },
     "execution_count": 40,
     "metadata": {},
     "output_type": "execute_result"
    }
   ],
   "source": [
    "names = []\n",
    "names = os.listdir(dataset)\n",
    "names"
   ]
  },
  {
   "cell_type": "code",
   "execution_count": 41,
   "metadata": {},
   "outputs": [
    {
     "data": {
      "text/plain": [
       "array([0., 0., 1.], dtype=float32)"
      ]
     },
     "execution_count": 41,
     "metadata": {},
     "output_type": "execute_result"
    }
   ],
   "source": [
    "test_y[9]"
   ]
  },
  {
   "cell_type": "code",
   "execution_count": 42,
   "metadata": {},
   "outputs": [
    {
     "name": "stdout",
     "output_type": "stream",
     "text": [
      "60\n",
      "Kick :  58\n",
      "21\n",
      "Conga :  18\n",
      "86\n",
      "Snare :  85\n"
     ]
    }
   ],
   "source": [
    "#notetoself make this dynamic\n",
    "namescounter = []\n",
    "namesperc = []\n",
    "namesmatch = []\n",
    "for i in range(len(names)):\n",
    "    namescounter.append(i)\n",
    "    namesperc.append(i)\n",
    "    namesmatch.append(i)\n",
    "    namescounter[i]= 0\n",
    "    namesperc[i] = 0\n",
    "    namesmatch[i] = 0\n",
    "\n",
    "for i in range(len(test_y)):\n",
    "    if np.all(test_y[i] == [1.0, 0.0, 0.0]):\n",
    "        namescounter[0] += 1\n",
    "        if(np.argmax(predictions[i]) == np.argmax(test_y[i])):\n",
    "            namesmatch[0] += 1\n",
    "    if np.all(test_y[i] == [0.0, 1.0, 0.0]):\n",
    "        namescounter[1] += 1\n",
    "        if(np.argmax(predictions[i]) == np.argmax(test_y[i])):\n",
    "            namesmatch[1] += 1\n",
    "    if np.all(test_y[i] == [0.0, 0.0, 1.0]):\n",
    "        namescounter[2] += 1\n",
    "        if(np.argmax(predictions[i]) == np.argmax(test_y[i])):\n",
    "            namesmatch[2] += 1\n",
    "\n",
    "for i in range(len(namesmatch)):\n",
    "    print(namescounter[i])\n",
    "    print(names[i],': ', namesmatch[i])"
   ]
  },
  {
   "cell_type": "code",
   "execution_count": 43,
   "metadata": {},
   "outputs": [
    {
     "name": "stdout",
     "output_type": "stream",
     "text": [
      "0.97\n",
      "0.86\n",
      "0.99\n"
     ]
    }
   ],
   "source": [
    "for i in range(len(names)):\n",
    "    namesperc[i] = round(namesmatch[i]/namescounter[i], 2)\n",
    "    print(namesperc[i])"
   ]
  },
  {
   "cell_type": "code",
   "execution_count": 44,
   "metadata": {},
   "outputs": [
    {
     "name": "stdout",
     "output_type": "stream",
     "text": [
      "['Kick', 60, 58, 0.97]\n",
      "['Conga', 21, 18, 0.86]\n",
      "['Snare', 86, 85, 0.99]\n"
     ]
    }
   ],
   "source": [
    "data = []\n",
    "for i in range(len(names)):\n",
    "    data.append([names[i], namescounter[i], namesmatch[i], namesperc[i]])\n",
    "    print(data[i])\n"
   ]
  },
  {
   "cell_type": "code",
   "execution_count": 45,
   "metadata": {},
   "outputs": [
    {
     "data": {
      "image/png": "[encoded data removed]",
      "text/plain": [
       "<Figure size 432x288 with 1 Axes>"
      ]
     },
     "metadata": {
      "needs_background": "light"
     },
     "output_type": "display_data"
    }
   ],
   "source": [
    "table = plt.table(cellText=data, colLabels = ['Class','Count','Correct Prediction','Percentage'], loc='center', \n",
    "                  cellLoc='center', colColours=['#FFFFFF', '#F3CC32', '#2769BD', '#DC3735'])\n",
    "table.auto_set_font_size(False)\n",
    "\n",
    "plt.axis('off')\n",
    "plt.show()\n"
   ]
  },
  {
   "cell_type": "markdown",
   "metadata": {},
   "source": [
    "# Confusion Matrix"
   ]
  },
  {
   "cell_type": "code",
   "execution_count": 46,
   "metadata": {},
   "outputs": [],
   "source": [
    "%matplotlib inline\n",
    "from sklearn.metrics import confusion_matrix\n",
    "import itertools"
   ]
  },
  {
   "cell_type": "code",
   "execution_count": 47,
   "metadata": {},
   "outputs": [
    {
     "data": {
      "text/plain": [
       "['Kick', 'Conga', 'Snare']"
      ]
     },
     "execution_count": 47,
     "metadata": {},
     "output_type": "execute_result"
    }
   ],
   "source": [
    "name = [folder.name for folder in dataset.glob('*')]\n",
    "name"
   ]
  },
  {
   "cell_type": "code",
   "execution_count": 48,
   "metadata": {},
   "outputs": [
    {
     "name": "stdout",
     "output_type": "stream",
     "text": [
      "2\n"
     ]
    }
   ],
   "source": [
    "rounded_labels = []\n",
    "for i in range(len(test_y)):\n",
    "    rounded_labels.append(np.argmax(test_y[i]))\n",
    "print(rounded_labels[0])"
   ]
  },
  {
   "cell_type": "code",
   "execution_count": 49,
   "metadata": {},
   "outputs": [],
   "source": [
    "conmatrix = confusion_matrix(rounded_labels, rounded_predictions)"
   ]
  },
  {
   "cell_type": "code",
   "execution_count": 50,
   "metadata": {},
   "outputs": [
    {
     "data": {
      "text/plain": [
       "Text(0.5, 0, 'Predicted Label')"
      ]
     },
     "execution_count": 50,
     "metadata": {},
     "output_type": "execute_result"
    },
    {
     "data": {
      "image/png": "[encoded data removed]",
      "text/plain": [
       "<Figure size 432x288 with 1 Axes>"
      ]
     },
     "metadata": {
      "needs_background": "light"
     },
     "output_type": "display_data"
    }
   ],
   "source": [
    "def plot_confusion_matrix(conmatrix, classes,\n",
    "                          normalize=False,\n",
    "                          title='Confusion Matrix',\n",
    "                          cmap=plt.cm.Blues):\n",
    "\n",
    "    \n",
    "    plt.imshow(conmatrix, interpolation = 'nearest', cmap = cmap)\n",
    "    plt.title(title)\n",
    "    plt.colorbar()\n",
    "    tick_marks = np.arange(len(classes))\n",
    "    plt.xticks(tick_marks, classes, rotation = 45)\n",
    "    plt.yticks(tick_marks, classes)\n",
    "    \n",
    "    if normalize:\n",
    "        conmatrix = conmatrix.astype('float') / conmatrix.sum(axis=1)[:, np.newaxis]\n",
    "        print(\"Normalized confusion matrix\")\n",
    "    else:\n",
    "        print('Confusion matrix, without normalization')\n",
    "\n",
    "    print(conmatrix)\n",
    "\n",
    "\n",
    "    thresh = conmatrix.max() / 2.\n",
    "    for i in range(conmatrix.shape[0]):\n",
    "        for j in range(conmatrix.shape[1]):\n",
    "            plt.text(j, i, conmatrix[i, j],\n",
    "                    \n",
    "                     horizontalalignment = \"center\",\n",
    "                    color=\"white\" if conmatrix[i, j] > thresh else \"black\")\n",
    "\n",
    "plt.tight_layout()\n",
    "plt.ylabel('Actual Label')\n",
    "plt.xlabel('Predicted Label')"
   ]
  },
  {
   "cell_type": "code",
   "execution_count": 51,
   "metadata": {},
   "outputs": [
    {
     "name": "stdout",
     "output_type": "stream",
     "text": [
      "Confusion matrix, without normalization\n",
      "[[58  0  2]\n",
      " [ 0 18  3]\n",
      " [ 1  0 85]]\n"
     ]
    },
    {
     "data": {
      "image/png": "[encoded data removed]",
      "text/plain": [
       "<Figure size 432x288 with 2 Axes>"
      ]
     },
     "metadata": {
      "needs_background": "light"
     },
     "output_type": "display_data"
    }
   ],
   "source": [
    "conmatrix_labels = [nam for nam in name]\n",
    "plot_confusion_matrix(conmatrix, conmatrix_labels, title='Confusion matrix')"
   ]
  },
  {
   "cell_type": "markdown",
   "metadata": {},
   "source": [
    "# Saving the model"
   ]
  },
  {
   "cell_type": "code",
   "execution_count": 52,
   "metadata": {
    "_uuid": "77f75546bd839e4dec13eacb1bf0c40529142bd4"
   },
   "outputs": [
    {
     "name": "stdout",
     "output_type": "stream",
     "text": [
      "Saved model to disk\n"
     ]
    }
   ],
   "source": [
    "from keras.models import model_from_json\n",
    "\n",
    "model_json = model.to_json()\n",
    "with open(\"model.json\", \"w\") as json_file:\n",
    "    json_file.write(model_json)\n",
    "# serialize weights to HDF5\n",
    "model.save_weights(\"model.h5\")\n",
    "print(\"Saved model to disk\")"
   ]
  },
  {
   "cell_type": "code",
   "execution_count": 53,
   "metadata": {},
   "outputs": [
    {
     "name": "stdout",
     "output_type": "stream",
     "text": [
      "Loaded model from disk\n"
     ]
    }
   ],
   "source": [
    "# load json and create model\n",
    "json_file = open('model.json', 'r')\n",
    "loaded_model_json = json_file.read()\n",
    "json_file.close()\n",
    "loaded_model = model_from_json(loaded_model_json)\n",
    "# load weights into new model\n",
    "loaded_model.load_weights(\"model.h5\")\n",
    "print(\"Loaded model from disk\")"
   ]
  }
 ],
 "metadata": {
  "accelerator": "GPU",
  "colab": {
   "collapsed_sections": [],
   "name": "Untitled0.ipynb",
   "provenance": [],
   "version": "0.3.2"
  },
  "kernelspec": {
   "display_name": "Python 3",
   "language": "python",
   "name": "python3"
  },
  "language_info": {
   "codemirror_mode": {
    "name": "ipython",
    "version": 3
   },
   "file_extension": ".py",
   "mimetype": "text/x-python",
   "name": "python",
   "nbconvert_exporter": "python",
   "pygments_lexer": "ipython3",
   "version": "3.6.6"
  }
 },
 "nbformat": 4,
 "nbformat_minor": 1
}
